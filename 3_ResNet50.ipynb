{
  "nbformat": 4,
  "nbformat_minor": 0,
  "metadata": {
    "colab": {
      "name": "3.ResNet50.ipynb",
      "provenance": [],
      "toc_visible": true,
      "collapsed_sections": [],
      "include_colab_link": true
    },
    "kernelspec": {
      "name": "python3",
      "display_name": "Python 3"
    },
    "language_info": {
      "name": "python"
    },
    "accelerator": "GPU"
  },
  "cells": [
    {
      "cell_type": "markdown",
      "metadata": {
        "id": "view-in-github",
        "colab_type": "text"
      },
      "source": [
        "<a href=\"https://colab.research.google.com/github/lorebianchi98/BrainTumorClassification/blob/main/3_ResNet50.ipynb\" target=\"_parent\"><img src=\"https://colab.research.google.com/assets/colab-badge.svg\" alt=\"Open In Colab\"/></a>"
      ]
    },
    {
      "cell_type": "markdown",
      "source": [
        "# Brain Tumor Classification using ResNet50\n",
        "In this notebook we are going to perform the classification of the brain tumor using as base CNN ResNet50."
      ],
      "metadata": {
        "id": "r3M2Y_ftTQ7j"
      }
    },
    {
      "cell_type": "markdown",
      "source": [
        "# Import and Costants"
      ],
      "metadata": {
        "id": "l1ATd77JsQyY"
      }
    },
    {
      "cell_type": "code",
      "source": [
        "import tensorflow as tf\n",
        "from tensorflow import keras\n",
        "from keras import layers\n",
        "from keras import models\n",
        "from tensorflow.keras.models import Sequential\n",
        "import numpy as np\n",
        "import pandas as pd\n",
        "from tensorflow import keras\n",
        "import os\n",
        "import shutil\n",
        "import matplotlib.pyplot as plt\n",
        "from tqdm import tqdm\n",
        "from google.colab import drive"
      ],
      "metadata": {
        "id": "PmOIGAcXsSUk"
      },
      "execution_count": null,
      "outputs": []
    },
    {
      "cell_type": "markdown",
      "source": [
        "# Connection to Google Drive"
      ],
      "metadata": {
        "id": "tvcSz_khiYIR"
      }
    },
    {
      "cell_type": "code",
      "source": [
        "drive.mount('/content/gdrive', force_remount=True)"
      ],
      "metadata": {
        "colab": {
          "base_uri": "https://localhost:8080/"
        },
        "id": "SWrkZz1siY_U",
        "outputId": "bc333d3a-d61f-495f-d87a-f2dd22e3d72b"
      },
      "execution_count": null,
      "outputs": [
        {
          "output_type": "stream",
          "name": "stdout",
          "text": [
            "Mounted at /content/gdrive\n"
          ]
        }
      ]
    },
    {
      "cell_type": "code",
      "source": [
        "% run /content/gdrive/MyDrive/BrainTumorClassifier/utilities.ipynb"
      ],
      "metadata": {
        "id": "tTZdVYQ4sWjL"
      },
      "execution_count": null,
      "outputs": []
    },
    {
      "cell_type": "markdown",
      "source": [
        "We also perform the download and the unzipping of the dataset from the drive folder."
      ],
      "metadata": {
        "id": "M4pwhya_W3Nj"
      }
    },
    {
      "cell_type": "code",
      "source": [
        "!unzip -q '/content/gdrive/MyDrive/BrainTumorClassifier/brain-tumor-mri-splits.zip' -d '/'"
      ],
      "metadata": {
        "id": "8MpTHXtjW_PA"
      },
      "execution_count": null,
      "outputs": []
    },
    {
      "cell_type": "markdown",
      "source": [
        "# Hardware Accelerator test"
      ],
      "metadata": {
        "id": "Q1peprlbhd3O"
      }
    },
    {
      "cell_type": "markdown",
      "source": [
        "First we need to check if the hardware accelaration is enabled, since training a CNN on a CPU could be infeasible."
      ],
      "metadata": {
        "id": "Q6nkuByCSine"
      }
    },
    {
      "cell_type": "code",
      "source": [
        "#check hardware acceleration\n",
        "device_name = tf.test.gpu_device_name()\n",
        "if device_name != '/device:GPU:0':\n",
        "  raise SystemError('GPU device not found')\n",
        "print('Found GPU at: {}'.format(device_name))"
      ],
      "metadata": {
        "colab": {
          "base_uri": "https://localhost:8080/"
        },
        "id": "QAWrdrxOSn6Y",
        "outputId": "99526fa6-9a70-4c60-fabc-5b7a4e5b8d15"
      },
      "execution_count": null,
      "outputs": [
        {
          "output_type": "stream",
          "name": "stdout",
          "text": [
            "Found GPU at: /device:GPU:0\n"
          ]
        }
      ]
    },
    {
      "cell_type": "markdown",
      "source": [
        "# Dataset loading"
      ],
      "metadata": {
        "id": "gKUZHvmhczLT"
      }
    },
    {
      "cell_type": "markdown",
      "source": [
        "Now we need to create the Dataset objects from the sets directory. We use the [image_dataset_from_directory](https://www.tensorflow.org/api_docs/python/tf/keras/utils/image_dataset_from_directory) function provided by Keras. "
      ],
      "metadata": {
        "id": "8MRY8zlUibs-"
      }
    },
    {
      "cell_type": "code",
      "source": [
        "train_ds, val_ds, test_ds = load_data_splits(IMAGE_SIZE, BATCH_SIZE)"
      ],
      "metadata": {
        "colab": {
          "base_uri": "https://localhost:8080/"
        },
        "id": "01Hu-W8UjrwJ",
        "outputId": "01cdb434-ff6a-476d-be75-f44403076956"
      },
      "execution_count": null,
      "outputs": [
        {
          "output_type": "stream",
          "name": "stdout",
          "text": [
            "Found 4213 files belonging to 4 classes.\n",
            "Found 1404 files belonging to 4 classes.\n",
            "Found 1406 files belonging to 4 classes.\n"
          ]
        }
      ]
    },
    {
      "cell_type": "markdown",
      "source": [
        "# 256 Dense Neurons\n",
        "Initially we are going to train a Multilayer Perceptron Network to classify brain tumor having as input the features extracted by ResNet50. The last layer of ResNet50 is removed, since it was a MLP Network built to classify ImageNet Dataset. The Res-Net-50 layers are freezed in this part of training. "
      ],
      "metadata": {
        "id": "0xeOd3wVHcZ5"
      }
    },
    {
      "cell_type": "code",
      "source": [
        "base_cnn = keras.applications.resnet.ResNet50(\n",
        "    weights=\"imagenet\",\n",
        "    include_top=False,\n",
        "    input_shape=(224,224,3)\n",
        ")\n",
        "\n",
        "base_cnn.trainable = False\n",
        "base_cnn.summary()"
      ],
      "metadata": {
        "id": "idpe9JOjHcZ5"
      },
      "execution_count": null,
      "outputs": []
    },
    {
      "cell_type": "code",
      "source": [
        "inputs = keras.Input(shape=(224,224,3))\n",
        "x = data_augmentation_layers(inputs)\n",
        "x = keras.applications.resnet50.preprocess_input(x)\n",
        "x = base_cnn(x)\n",
        "\n",
        "x = layers.GlobalAveragePooling2D(name='gap')(x)\n",
        "x = layers.Flatten(name='flatten')(x)\n",
        "x = layers.Dense(256,activation='relu', name='classifier_hidden')(x)\n",
        "x = layers.Dropout(0.5)(x)\n",
        "output = layers.Dense(len(CLASSES), activation='softmax')(x)\n",
        "\n",
        "model = tf.keras.models.Model(inputs=inputs, outputs=output, name=\"ResNet50\")\n",
        "\n",
        "model = compile_model(model, loss=\"sparse_categorical_crossentropy\")\n",
        "model.summary()"
      ],
      "metadata": {
        "colab": {
          "base_uri": "https://localhost:8080/"
        },
        "outputId": "074a264a-3b9e-4b42-d710-f3a3e2db6a58",
        "id": "ukKUcyosHcZ5"
      },
      "execution_count": null,
      "outputs": [
        {
          "output_type": "stream",
          "name": "stdout",
          "text": [
            "Model: \"ResNet50\"\n",
            "_________________________________________________________________\n",
            " Layer (type)                Output Shape              Param #   \n",
            "=================================================================\n",
            " input_12 (InputLayer)       [(None, 224, 224, 3)]     0         \n",
            "                                                                 \n",
            " sequential (Sequential)     (None, 224, 224, 3)       0         \n",
            "                                                                 \n",
            " tf.__operators__.getitem_5   (None, 224, 224, 3)      0         \n",
            " (SlicingOpLambda)                                               \n",
            "                                                                 \n",
            " tf.nn.bias_add_5 (TFOpLambd  (None, 224, 224, 3)      0         \n",
            " a)                                                              \n",
            "                                                                 \n",
            " resnet50 (Functional)       (None, 7, 7, 2048)        23587712  \n",
            "                                                                 \n",
            " gap (GlobalAveragePooling2D  (None, 2048)             0         \n",
            " )                                                               \n",
            "                                                                 \n",
            " flatten (Flatten)           (None, 2048)              0         \n",
            "                                                                 \n",
            " classifier_hidden (Dense)   (None, 256)               524544    \n",
            "                                                                 \n",
            " dropout_5 (Dropout)         (None, 256)               0         \n",
            "                                                                 \n",
            " dense_5 (Dense)             (None, 4)                 1028      \n",
            "                                                                 \n",
            "=================================================================\n",
            "Total params: 24,113,284\n",
            "Trainable params: 525,572\n",
            "Non-trainable params: 23,587,712\n",
            "_________________________________________________________________\n"
          ]
        }
      ]
    },
    {
      "cell_type": "code",
      "source": [
        "model, history = run_model(model, model.name, train_ds, val_ds, 50, patience=3, monitor='val_loss')\n",
        "plot_accuracy_and_loss_history(history)"
      ],
      "metadata": {
        "colab": {
          "base_uri": "https://localhost:8080/",
          "height": 1000
        },
        "outputId": "db33f5a4-23fe-48e2-ed36-c8bfd9b4b10a",
        "id": "a-FYYLGRHcZ6"
      },
      "execution_count": null,
      "outputs": [
        {
          "output_type": "stream",
          "name": "stdout",
          "text": [
            "Epoch 1/50\n",
            "66/66 [==============================] - ETA: 0s - loss: 0.7435 - accuracy: 0.7232\n",
            "Epoch 1: val_loss improved from inf to 0.37820, saving model to model/ResNet50.h5\n",
            "66/66 [==============================] - 27s 200ms/step - loss: 0.7435 - accuracy: 0.7232 - val_loss: 0.3782 - val_accuracy: 0.8625\n",
            "Epoch 2/50\n",
            "66/66 [==============================] - ETA: 0s - loss: 0.3918 - accuracy: 0.8547\n",
            "Epoch 2: val_loss improved from 0.37820 to 0.30721, saving model to model/ResNet50.h5\n",
            "66/66 [==============================] - 12s 174ms/step - loss: 0.3918 - accuracy: 0.8547 - val_loss: 0.3072 - val_accuracy: 0.8853\n",
            "Epoch 3/50\n",
            "66/66 [==============================] - ETA: 0s - loss: 0.3199 - accuracy: 0.8801\n",
            "Epoch 3: val_loss improved from 0.30721 to 0.25860, saving model to model/ResNet50.h5\n",
            "66/66 [==============================] - 12s 174ms/step - loss: 0.3199 - accuracy: 0.8801 - val_loss: 0.2586 - val_accuracy: 0.9060\n",
            "Epoch 4/50\n",
            "66/66 [==============================] - ETA: 0s - loss: 0.2610 - accuracy: 0.9027\n",
            "Epoch 4: val_loss improved from 0.25860 to 0.24558, saving model to model/ResNet50.h5\n",
            "66/66 [==============================] - 12s 174ms/step - loss: 0.2610 - accuracy: 0.9027 - val_loss: 0.2456 - val_accuracy: 0.9202\n",
            "Epoch 5/50\n",
            "66/66 [==============================] - ETA: 0s - loss: 0.2410 - accuracy: 0.9124\n",
            "Epoch 5: val_loss improved from 0.24558 to 0.23148, saving model to model/ResNet50.h5\n",
            "66/66 [==============================] - 12s 173ms/step - loss: 0.2410 - accuracy: 0.9124 - val_loss: 0.2315 - val_accuracy: 0.9160\n",
            "Epoch 6/50\n",
            "66/66 [==============================] - ETA: 0s - loss: 0.1985 - accuracy: 0.9297\n",
            "Epoch 6: val_loss improved from 0.23148 to 0.22429, saving model to model/ResNet50.h5\n",
            "66/66 [==============================] - 12s 173ms/step - loss: 0.1985 - accuracy: 0.9297 - val_loss: 0.2243 - val_accuracy: 0.9245\n",
            "Epoch 7/50\n",
            "66/66 [==============================] - ETA: 0s - loss: 0.1936 - accuracy: 0.9288\n",
            "Epoch 7: val_loss improved from 0.22429 to 0.22236, saving model to model/ResNet50.h5\n",
            "66/66 [==============================] - 12s 173ms/step - loss: 0.1936 - accuracy: 0.9288 - val_loss: 0.2224 - val_accuracy: 0.9188\n",
            "Epoch 8/50\n",
            "66/66 [==============================] - ETA: 0s - loss: 0.1707 - accuracy: 0.9364\n",
            "Epoch 8: val_loss improved from 0.22236 to 0.19902, saving model to model/ResNet50.h5\n",
            "66/66 [==============================] - 12s 173ms/step - loss: 0.1707 - accuracy: 0.9364 - val_loss: 0.1990 - val_accuracy: 0.9266\n",
            "Epoch 9/50\n",
            "66/66 [==============================] - ETA: 0s - loss: 0.1577 - accuracy: 0.9426\n",
            "Epoch 9: val_loss improved from 0.19902 to 0.19276, saving model to model/ResNet50.h5\n",
            "66/66 [==============================] - 12s 174ms/step - loss: 0.1577 - accuracy: 0.9426 - val_loss: 0.1928 - val_accuracy: 0.9316\n",
            "Epoch 10/50\n",
            "66/66 [==============================] - ETA: 0s - loss: 0.1438 - accuracy: 0.9521\n",
            "Epoch 10: val_loss improved from 0.19276 to 0.19182, saving model to model/ResNet50.h5\n",
            "66/66 [==============================] - 12s 173ms/step - loss: 0.1438 - accuracy: 0.9521 - val_loss: 0.1918 - val_accuracy: 0.9330\n",
            "Epoch 11/50\n",
            "66/66 [==============================] - ETA: 0s - loss: 0.1308 - accuracy: 0.9568\n",
            "Epoch 11: val_loss improved from 0.19182 to 0.19079, saving model to model/ResNet50.h5\n",
            "66/66 [==============================] - 12s 174ms/step - loss: 0.1308 - accuracy: 0.9568 - val_loss: 0.1908 - val_accuracy: 0.9373\n",
            "Epoch 12/50\n",
            "66/66 [==============================] - ETA: 0s - loss: 0.1327 - accuracy: 0.9551\n",
            "Epoch 12: val_loss improved from 0.19079 to 0.17870, saving model to model/ResNet50.h5\n",
            "66/66 [==============================] - 12s 174ms/step - loss: 0.1327 - accuracy: 0.9551 - val_loss: 0.1787 - val_accuracy: 0.9395\n",
            "Epoch 13/50\n",
            "66/66 [==============================] - ETA: 0s - loss: 0.1318 - accuracy: 0.9535\n",
            "Epoch 13: val_loss did not improve from 0.17870\n",
            "66/66 [==============================] - 11s 166ms/step - loss: 0.1318 - accuracy: 0.9535 - val_loss: 0.1847 - val_accuracy: 0.9359\n",
            "Epoch 14/50\n",
            "66/66 [==============================] - ETA: 0s - loss: 0.1023 - accuracy: 0.9644\n",
            "Epoch 14: val_loss did not improve from 0.17870\n",
            "66/66 [==============================] - 12s 170ms/step - loss: 0.1023 - accuracy: 0.9644 - val_loss: 0.1854 - val_accuracy: 0.9373\n",
            "Epoch 15/50\n",
            "66/66 [==============================] - ETA: 0s - loss: 0.1122 - accuracy: 0.9589\n",
            "Epoch 15: val_loss did not improve from 0.17870\n",
            "66/66 [==============================] - 11s 166ms/step - loss: 0.1122 - accuracy: 0.9589 - val_loss: 0.1893 - val_accuracy: 0.9359\n",
            "Saving /content/gdrive/MyDrive/BrainTumorClassifier/Models/ResNet50/history.pkl\n",
            "INFO:tensorflow:Assets written to: ram://542d1dc7-6783-4def-84c0-d742c8f48d82/assets\n"
          ]
        },
        {
          "output_type": "display_data",
          "data": {
            "text/plain": [
              "<Figure size 432x288 with 1 Axes>"
            ],
            "image/png": "[encoded data removed]"
          },
          "metadata": {
            "needs_background": "light"
          }
        },
        {
          "output_type": "display_data",
          "data": {
            "text/plain": [
              "<Figure size 432x288 with 1 Axes>"
            ],
            "image/png": "[encoded data removed]"
          },
          "metadata": {
            "needs_background": "light"
          }
        }
      ]
    },
    {
      "cell_type": "code",
      "source": [
        "evaluate_model(model, test_ds)"
      ],
      "metadata": {
        "colab": {
          "base_uri": "https://localhost:8080/"
        },
        "outputId": "ac12ff7f-3508-4af3-e62f-aaaebfbf68b9",
        "id": "90eMx_VVHcZ6"
      },
      "execution_count": null,
      "outputs": [
        {
          "output_type": "stream",
          "name": "stdout",
          "text": [
            "22/22 [==============================] - 4s 141ms/step - loss: 0.2007 - accuracy: 0.9282\n",
            "Loss on test set: 0.20069462060928345\n",
            "Accuracy on test set: 0.9281650185585022\n",
            "              precision    recall  f1-score   support\n",
            "\n",
            "      glioma     0.9299    0.8985    0.9139       325\n",
            "  meningioma     0.8347    0.9058    0.8688       329\n",
            "     notumor     0.9776    0.9800    0.9788       400\n",
            "   pituitary     0.9671    0.9176    0.9417       352\n",
            "\n",
            "    accuracy                         0.9282      1406\n",
            "   macro avg     0.9273    0.9255    0.9258      1406\n",
            "weighted avg     0.9305    0.9282    0.9288      1406\n",
            "\n"
          ]
        }
      ]
    },
    {
      "cell_type": "code",
      "source": [
        "plot_confusionmatrix(model, test_ds)"
      ],
      "metadata": {
        "colab": {
          "base_uri": "https://localhost:8080/",
          "height": 627
        },
        "outputId": "8dc65f77-cfa1-411e-c715-271aaf10154d",
        "id": "c4rUwmb9HcZ6"
      },
      "execution_count": null,
      "outputs": [
        {
          "output_type": "stream",
          "name": "stdout",
          "text": [
            "22/22 [==============================] - 3s 120ms/step\n"
          ]
        },
        {
          "output_type": "display_data",
          "data": {
            "text/plain": [
              "<Figure size 720x720 with 2 Axes>"
            ],
            "image/png": "[encoded data removed]"
          },
          "metadata": {
            "needs_background": "light"
          }
        }
      ]
    },
    {
      "cell_type": "markdown",
      "source": [
        "# Fine Tuning\n",
        "Now it is time to unfreeze the last block of ResNet50 to fine tune its weigths on our dataset."
      ],
      "metadata": {
        "id": "kjmryDPn0G0W"
      }
    },
    {
      "cell_type": "code",
      "source": [
        "trainable = False\n",
        "for layer in model.get_layer(\"resnet50\").layers:\n",
        "    if layer.name == 'conv5_block3_1_conv':\n",
        "        trainable = True\n",
        "    is_bn = layer.name.endswith('bn')  # keep BatchNorm freezed, good practice for finetuned models\n",
        "    if not is_bn:\n",
        "      layer.trainable = trainable\n",
        "\n",
        "model.summary()"
      ],
      "metadata": {
        "colab": {
          "base_uri": "https://localhost:8080/"
        },
        "outputId": "0f6bd5f8-bdc5-422a-d0c2-b544699b0ac4",
        "id": "hV3Flvzo0G0X"
      },
      "execution_count": null,
      "outputs": [
        {
          "output_type": "stream",
          "name": "stdout",
          "text": [
            "Model: \"ResNet50\"\n",
            "_________________________________________________________________\n",
            " Layer (type)                Output Shape              Param #   \n",
            "=================================================================\n",
            " input_12 (InputLayer)       [(None, 224, 224, 3)]     0         \n",
            "                                                                 \n",
            " sequential (Sequential)     (None, 224, 224, 3)       0         \n",
            "                                                                 \n",
            " tf.__operators__.getitem_5   (None, 224, 224, 3)      0         \n",
            " (SlicingOpLambda)                                               \n",
            "                                                                 \n",
            " tf.nn.bias_add_5 (TFOpLambd  (None, 224, 224, 3)      0         \n",
            " a)                                                              \n",
            "                                                                 \n",
            " resnet50 (Functional)       (None, 7, 7, 2048)        23587712  \n",
            "                                                                 \n",
            " gap (GlobalAveragePooling2D  (None, 2048)             0         \n",
            " )                                                               \n",
            "                                                                 \n",
            " flatten (Flatten)           (None, 2048)              0         \n",
            "                                                                 \n",
            " classifier_hidden (Dense)   (None, 256)               524544    \n",
            "                                                                 \n",
            " dropout_5 (Dropout)         (None, 256)               0         \n",
            "                                                                 \n",
            " dense_5 (Dense)             (None, 4)                 1028      \n",
            "                                                                 \n",
            "=================================================================\n",
            "Total params: 24,113,284\n",
            "Trainable params: 4,985,092\n",
            "Non-trainable params: 19,128,192\n",
            "_________________________________________________________________\n"
          ]
        }
      ]
    },
    {
      "cell_type": "code",
      "source": [
        "model, history = run_model(model, model.name + \"_Finetuned\", train_ds, val_ds, 50, patience=5, monitor='val_loss')\n",
        "plot_accuracy_and_loss_history(history)"
      ],
      "metadata": {
        "colab": {
          "base_uri": "https://localhost:8080/",
          "height": 1000
        },
        "outputId": "b34a40f6-7b66-44ca-ac6a-dd99a6cff58e",
        "id": "-k7OjnhA0G0X"
      },
      "execution_count": null,
      "outputs": [
        {
          "output_type": "stream",
          "name": "stdout",
          "text": [
            "Epoch 1/50\n",
            "66/66 [==============================] - ETA: 0s - loss: 0.1171 - accuracy: 0.9573\n",
            "Epoch 1: val_loss improved from inf to 0.19255, saving model to model/ResNet50_Finetuned.h5\n",
            "66/66 [==============================] - 17s 175ms/step - loss: 0.1171 - accuracy: 0.9573 - val_loss: 0.1926 - val_accuracy: 0.9330\n",
            "Epoch 2/50\n",
            "66/66 [==============================] - ETA: 0s - loss: 0.1110 - accuracy: 0.9599\n",
            "Epoch 2: val_loss improved from 0.19255 to 0.17657, saving model to model/ResNet50_Finetuned.h5\n",
            "66/66 [==============================] - 12s 177ms/step - loss: 0.1110 - accuracy: 0.9599 - val_loss: 0.1766 - val_accuracy: 0.9402\n",
            "Epoch 3/50\n",
            "66/66 [==============================] - ETA: 0s - loss: 0.1005 - accuracy: 0.9642\n",
            "Epoch 3: val_loss improved from 0.17657 to 0.16890, saving model to model/ResNet50_Finetuned.h5\n",
            "66/66 [==============================] - 12s 177ms/step - loss: 0.1005 - accuracy: 0.9642 - val_loss: 0.1689 - val_accuracy: 0.9387\n",
            "Epoch 4/50\n",
            "66/66 [==============================] - ETA: 0s - loss: 0.0958 - accuracy: 0.9656\n",
            "Epoch 4: val_loss did not improve from 0.16890\n",
            "66/66 [==============================] - 12s 169ms/step - loss: 0.0958 - accuracy: 0.9656 - val_loss: 0.1940 - val_accuracy: 0.9380\n",
            "Epoch 5/50\n",
            "66/66 [==============================] - ETA: 0s - loss: 0.0960 - accuracy: 0.9665\n",
            "Epoch 5: val_loss improved from 0.16890 to 0.16848, saving model to model/ResNet50_Finetuned.h5\n",
            "66/66 [==============================] - 12s 177ms/step - loss: 0.0960 - accuracy: 0.9665 - val_loss: 0.1685 - val_accuracy: 0.9409\n",
            "Epoch 6/50\n",
            "66/66 [==============================] - ETA: 0s - loss: 0.0905 - accuracy: 0.9687\n",
            "Epoch 6: val_loss improved from 0.16848 to 0.15854, saving model to model/ResNet50_Finetuned.h5\n",
            "66/66 [==============================] - 12s 177ms/step - loss: 0.0905 - accuracy: 0.9687 - val_loss: 0.1585 - val_accuracy: 0.9459\n",
            "Epoch 7/50\n",
            "66/66 [==============================] - ETA: 0s - loss: 0.0775 - accuracy: 0.9748\n",
            "Epoch 7: val_loss did not improve from 0.15854\n",
            "66/66 [==============================] - 12s 170ms/step - loss: 0.0775 - accuracy: 0.9748 - val_loss: 0.1702 - val_accuracy: 0.9437\n",
            "Epoch 8/50\n",
            "66/66 [==============================] - ETA: 0s - loss: 0.0774 - accuracy: 0.9772\n",
            "Epoch 8: val_loss did not improve from 0.15854\n",
            "66/66 [==============================] - 12s 170ms/step - loss: 0.0774 - accuracy: 0.9772 - val_loss: 0.1645 - val_accuracy: 0.9444\n",
            "Epoch 9/50\n",
            "66/66 [==============================] - ETA: 0s - loss: 0.0739 - accuracy: 0.9737\n",
            "Epoch 9: val_loss did not improve from 0.15854\n",
            "66/66 [==============================] - 12s 169ms/step - loss: 0.0739 - accuracy: 0.9737 - val_loss: 0.1698 - val_accuracy: 0.9473\n",
            "Epoch 10/50\n",
            "66/66 [==============================] - ETA: 0s - loss: 0.0619 - accuracy: 0.9801\n",
            "Epoch 10: val_loss did not improve from 0.15854\n",
            "66/66 [==============================] - 12s 171ms/step - loss: 0.0619 - accuracy: 0.9801 - val_loss: 0.1585 - val_accuracy: 0.9480\n",
            "Epoch 11/50\n",
            "66/66 [==============================] - ETA: 0s - loss: 0.0624 - accuracy: 0.9770\n",
            "Epoch 11: val_loss did not improve from 0.15854\n",
            "66/66 [==============================] - 14s 177ms/step - loss: 0.0624 - accuracy: 0.9770 - val_loss: 0.1617 - val_accuracy: 0.9473\n",
            "Saving /content/gdrive/MyDrive/BrainTumorClassifier/Models/ResNet50_Finetuned/history.pkl\n",
            "INFO:tensorflow:Assets written to: ram://4bfd49a2-e85b-4161-a37b-7ab9ef4a99c1/assets\n"
          ]
        },
        {
          "output_type": "display_data",
          "data": {
            "text/plain": [
              "<Figure size 432x288 with 1 Axes>"
            ],
            "image/png": "[encoded data removed]"
          },
          "metadata": {
            "needs_background": "light"
          }
        },
        {
          "output_type": "display_data",
          "data": {
            "text/plain": [
              "<Figure size 432x288 with 1 Axes>"
            ],
            "image/png": "[encoded data removed]"
          },
          "metadata": {
            "needs_background": "light"
          }
        }
      ]
    },
    {
      "cell_type": "code",
      "source": [
        "evaluate_model(model, test_ds)"
      ],
      "metadata": {
        "colab": {
          "base_uri": "https://localhost:8080/"
        },
        "outputId": "e1ed25c0-83cc-4d4a-e7e6-7e5343b1c8e3",
        "id": "SNQOkJkc0G0Y"
      },
      "execution_count": null,
      "outputs": [
        {
          "output_type": "stream",
          "name": "stdout",
          "text": [
            "22/22 [==============================] - 4s 130ms/step - loss: 0.1802 - accuracy: 0.9438\n",
            "Loss on test set: 0.18023891746997833\n",
            "Accuracy on test set: 0.9438122510910034\n",
            "              precision    recall  f1-score   support\n",
            "\n",
            "      glioma     0.9215    0.9385    0.9299       325\n",
            "  meningioma     0.8912    0.8967    0.8939       329\n",
            "     notumor     0.9825    0.9850    0.9838       400\n",
            "   pituitary     0.9708    0.9460    0.9583       352\n",
            "\n",
            "    accuracy                         0.9438      1406\n",
            "   macro avg     0.9415    0.9415    0.9415      1406\n",
            "weighted avg     0.9441    0.9438    0.9439      1406\n",
            "\n"
          ]
        }
      ]
    },
    {
      "cell_type": "code",
      "source": [
        "plot_confusionmatrix(model, test_ds)"
      ],
      "metadata": {
        "colab": {
          "base_uri": "https://localhost:8080/",
          "height": 627
        },
        "outputId": "7a8678ae-e374-4e37-a2d6-8ca3089a2d26",
        "id": "qU7Tip1L0G0Y"
      },
      "execution_count": null,
      "outputs": [
        {
          "output_type": "stream",
          "name": "stdout",
          "text": [
            "22/22 [==============================] - 3s 123ms/step\n"
          ]
        },
        {
          "output_type": "display_data",
          "data": {
            "text/plain": [
              "<Figure size 720x720 with 2 Axes>"
            ],
            "image/png": "[encoded data removed]"
          },
          "metadata": {
            "needs_background": "light"
          }
        }
      ]
    },
    {
      "cell_type": "markdown",
      "source": [
        "# Removing last block\n",
        "Resnet is trained on ImageNet, which is a dataset very different from ours composed by brain MRI scans. We may hypothesize that the Convolution filters of the last layers of this CNN are prepared to recognise very specific characteristics of the images, while the first filters are used to extract low level features, that are less specific and can relates better to our dataset. \n",
        "\n",
        "We try to chop the last block of Resnet-50 before connecting the base CNN to our MLP network and train this MLP network on our dataset with the base freezed. Than we will perform the fine tuning with the last block unfreezed.\n"
      ],
      "metadata": {
        "id": "MDCGJirl6G4K"
      }
    },
    {
      "cell_type": "code",
      "source": [
        "base_cnn = keras.applications.resnet50.ResNet50(\n",
        "    weights=\"imagenet\",\n",
        "    include_top=False,\n",
        "    input_shape=(224,224,3)\n",
        ")\n",
        "\n",
        "base_cnn.trainable = False"
      ],
      "metadata": {
        "id": "2Oi9taW06UYk"
      },
      "execution_count": null,
      "outputs": []
    },
    {
      "cell_type": "code",
      "source": [
        "def get_layer_index(model, layer_name):\n",
        "  for index, layer in enumerate(model.layers):\n",
        "      if layer.name == layer_name:\n",
        "          return index"
      ],
      "metadata": {
        "id": "o-OI_HUb-6zW"
      },
      "execution_count": null,
      "outputs": []
    },
    {
      "cell_type": "code",
      "source": [
        "model = keras.Model(base_cnn.input, base_cnn.layers[get_layer_index(base_cnn, 'conv4_block6_out')].output, name='base')\n",
        "model.summary()"
      ],
      "metadata": {
        "colab": {
          "base_uri": "https://localhost:8080/"
        },
        "id": "3Wsr10ZX6g92",
        "outputId": "226fb009-db80-4bab-b4f7-0632533b85f2"
      },
      "execution_count": null,
      "outputs": [
        {
          "output_type": "stream",
          "name": "stdout",
          "text": [
            "Model: \"base\"\n",
            "__________________________________________________________________________________________________\n",
            " Layer (type)                   Output Shape         Param #     Connected to                     \n",
            "==================================================================================================\n",
            " input_5 (InputLayer)           [(None, 224, 224, 3  0           []                               \n",
            "                                )]                                                                \n",
            "                                                                                                  \n",
            " conv1_pad (ZeroPadding2D)      (None, 230, 230, 3)  0           ['input_5[0][0]']                \n",
            "                                                                                                  \n",
            " conv1_conv (Conv2D)            (None, 112, 112, 64  9472        ['conv1_pad[0][0]']              \n",
            "                                )                                                                 \n",
            "                                                                                                  \n",
            " conv1_bn (BatchNormalization)  (None, 112, 112, 64  256         ['conv1_conv[0][0]']             \n",
            "                                )                                                                 \n",
            "                                                                                                  \n",
            " conv1_relu (Activation)        (None, 112, 112, 64  0           ['conv1_bn[0][0]']               \n",
            "                                )                                                                 \n",
            "                                                                                                  \n",
            " pool1_pad (ZeroPadding2D)      (None, 114, 114, 64  0           ['conv1_relu[0][0]']             \n",
            "                                )                                                                 \n",
            "                                                                                                  \n",
            " pool1_pool (MaxPooling2D)      (None, 56, 56, 64)   0           ['pool1_pad[0][0]']              \n",
            "                                                                                                  \n",
            " conv2_block1_1_conv (Conv2D)   (None, 56, 56, 64)   4160        ['pool1_pool[0][0]']             \n",
            "                                                                                                  \n",
            " conv2_block1_1_bn (BatchNormal  (None, 56, 56, 64)  256         ['conv2_block1_1_conv[0][0]']    \n",
            " ization)                                                                                         \n",
            "                                                                                                  \n",
            " conv2_block1_1_relu (Activatio  (None, 56, 56, 64)  0           ['conv2_block1_1_bn[0][0]']      \n",
            " n)                                                                                               \n",
            "                                                                                                  \n",
            " conv2_block1_2_conv (Conv2D)   (None, 56, 56, 64)   36928       ['conv2_block1_1_relu[0][0]']    \n",
            "                                                                                                  \n",
            " conv2_block1_2_bn (BatchNormal  (None, 56, 56, 64)  256         ['conv2_block1_2_conv[0][0]']    \n",
            " ization)                                                                                         \n",
            "                                                                                                  \n",
            " conv2_block1_2_relu (Activatio  (None, 56, 56, 64)  0           ['conv2_block1_2_bn[0][0]']      \n",
            " n)                                                                                               \n",
            "                                                                                                  \n",
            " conv2_block1_0_conv (Conv2D)   (None, 56, 56, 256)  16640       ['pool1_pool[0][0]']             \n",
            "                                                                                                  \n",
            " conv2_block1_3_conv (Conv2D)   (None, 56, 56, 256)  16640       ['conv2_block1_2_relu[0][0]']    \n",
            "                                                                                                  \n",
            " conv2_block1_0_bn (BatchNormal  (None, 56, 56, 256)  1024       ['conv2_block1_0_conv[0][0]']    \n",
            " ization)                                                                                         \n",
            "                                                                                                  \n",
            " conv2_block1_3_bn (BatchNormal  (None, 56, 56, 256)  1024       ['conv2_block1_3_conv[0][0]']    \n",
            " ization)                                                                                         \n",
            "                                                                                                  \n",
            " conv2_block1_add (Add)         (None, 56, 56, 256)  0           ['conv2_block1_0_bn[0][0]',      \n",
            "                                                                  'conv2_block1_3_bn[0][0]']      \n",
            "                                                                                                  \n",
            " conv2_block1_out (Activation)  (None, 56, 56, 256)  0           ['conv2_block1_add[0][0]']       \n",
            "                                                                                                  \n",
            " conv2_block2_1_conv (Conv2D)   (None, 56, 56, 64)   16448       ['conv2_block1_out[0][0]']       \n",
            "                                                                                                  \n",
            " conv2_block2_1_bn (BatchNormal  (None, 56, 56, 64)  256         ['conv2_block2_1_conv[0][0]']    \n",
            " ization)                                                                                         \n",
            "                                                                                                  \n",
            " conv2_block2_1_relu (Activatio  (None, 56, 56, 64)  0           ['conv2_block2_1_bn[0][0]']      \n",
            " n)                                                                                               \n",
            "                                                                                                  \n",
            " conv2_block2_2_conv (Conv2D)   (None, 56, 56, 64)   36928       ['conv2_block2_1_relu[0][0]']    \n",
            "                                                                                                  \n",
            " conv2_block2_2_bn (BatchNormal  (None, 56, 56, 64)  256         ['conv2_block2_2_conv[0][0]']    \n",
            " ization)                                                                                         \n",
            "                                                                                                  \n",
            " conv2_block2_2_relu (Activatio  (None, 56, 56, 64)  0           ['conv2_block2_2_bn[0][0]']      \n",
            " n)                                                                                               \n",
            "                                                                                                  \n",
            " conv2_block2_3_conv (Conv2D)   (None, 56, 56, 256)  16640       ['conv2_block2_2_relu[0][0]']    \n",
            "                                                                                                  \n",
            " conv2_block2_3_bn (BatchNormal  (None, 56, 56, 256)  1024       ['conv2_block2_3_conv[0][0]']    \n",
            " ization)                                                                                         \n",
            "                                                                                                  \n",
            " conv2_block2_add (Add)         (None, 56, 56, 256)  0           ['conv2_block1_out[0][0]',       \n",
            "                                                                  'conv2_block2_3_bn[0][0]']      \n",
            "                                                                                                  \n",
            " conv2_block2_out (Activation)  (None, 56, 56, 256)  0           ['conv2_block2_add[0][0]']       \n",
            "                                                                                                  \n",
            " conv2_block3_1_conv (Conv2D)   (None, 56, 56, 64)   16448       ['conv2_block2_out[0][0]']       \n",
            "                                                                                                  \n",
            " conv2_block3_1_bn (BatchNormal  (None, 56, 56, 64)  256         ['conv2_block3_1_conv[0][0]']    \n",
            " ization)                                                                                         \n",
            "                                                                                                  \n",
            " conv2_block3_1_relu (Activatio  (None, 56, 56, 64)  0           ['conv2_block3_1_bn[0][0]']      \n",
            " n)                                                                                               \n",
            "                                                                                                  \n",
            " conv2_block3_2_conv (Conv2D)   (None, 56, 56, 64)   36928       ['conv2_block3_1_relu[0][0]']    \n",
            "                                                                                                  \n",
            " conv2_block3_2_bn (BatchNormal  (None, 56, 56, 64)  256         ['conv2_block3_2_conv[0][0]']    \n",
            " ization)                                                                                         \n",
            "                                                                                                  \n",
            " conv2_block3_2_relu (Activatio  (None, 56, 56, 64)  0           ['conv2_block3_2_bn[0][0]']      \n",
            " n)                                                                                               \n",
            "                                                                                                  \n",
            " conv2_block3_3_conv (Conv2D)   (None, 56, 56, 256)  16640       ['conv2_block3_2_relu[0][0]']    \n",
            "                                                                                                  \n",
            " conv2_block3_3_bn (BatchNormal  (None, 56, 56, 256)  1024       ['conv2_block3_3_conv[0][0]']    \n",
            " ization)                                                                                         \n",
            "                                                                                                  \n",
            " conv2_block3_add (Add)         (None, 56, 56, 256)  0           ['conv2_block2_out[0][0]',       \n",
            "                                                                  'conv2_block3_3_bn[0][0]']      \n",
            "                                                                                                  \n",
            " conv2_block3_out (Activation)  (None, 56, 56, 256)  0           ['conv2_block3_add[0][0]']       \n",
            "                                                                                                  \n",
            " conv3_block1_1_conv (Conv2D)   (None, 28, 28, 128)  32896       ['conv2_block3_out[0][0]']       \n",
            "                                                                                                  \n",
            " conv3_block1_1_bn (BatchNormal  (None, 28, 28, 128)  512        ['conv3_block1_1_conv[0][0]']    \n",
            " ization)                                                                                         \n",
            "                                                                                                  \n",
            " conv3_block1_1_relu (Activatio  (None, 28, 28, 128)  0          ['conv3_block1_1_bn[0][0]']      \n",
            " n)                                                                                               \n",
            "                                                                                                  \n",
            " conv3_block1_2_conv (Conv2D)   (None, 28, 28, 128)  147584      ['conv3_block1_1_relu[0][0]']    \n",
            "                                                                                                  \n",
            " conv3_block1_2_bn (BatchNormal  (None, 28, 28, 128)  512        ['conv3_block1_2_conv[0][0]']    \n",
            " ization)                                                                                         \n",
            "                                                                                                  \n",
            " conv3_block1_2_relu (Activatio  (None, 28, 28, 128)  0          ['conv3_block1_2_bn[0][0]']      \n",
            " n)                                                                                               \n",
            "                                                                                                  \n",
            " conv3_block1_0_conv (Conv2D)   (None, 28, 28, 512)  131584      ['conv2_block3_out[0][0]']       \n",
            "                                                                                                  \n",
            " conv3_block1_3_conv (Conv2D)   (None, 28, 28, 512)  66048       ['conv3_block1_2_relu[0][0]']    \n",
            "                                                                                                  \n",
            " conv3_block1_0_bn (BatchNormal  (None, 28, 28, 512)  2048       ['conv3_block1_0_conv[0][0]']    \n",
            " ization)                                                                                         \n",
            "                                                                                                  \n",
            " conv3_block1_3_bn (BatchNormal  (None, 28, 28, 512)  2048       ['conv3_block1_3_conv[0][0]']    \n",
            " ization)                                                                                         \n",
            "                                                                                                  \n",
            " conv3_block1_add (Add)         (None, 28, 28, 512)  0           ['conv3_block1_0_bn[0][0]',      \n",
            "                                                                  'conv3_block1_3_bn[0][0]']      \n",
            "                                                                                                  \n",
            " conv3_block1_out (Activation)  (None, 28, 28, 512)  0           ['conv3_block1_add[0][0]']       \n",
            "                                                                                                  \n",
            " conv3_block2_1_conv (Conv2D)   (None, 28, 28, 128)  65664       ['conv3_block1_out[0][0]']       \n",
            "                                                                                                  \n",
            " conv3_block2_1_bn (BatchNormal  (None, 28, 28, 128)  512        ['conv3_block2_1_conv[0][0]']    \n",
            " ization)                                                                                         \n",
            "                                                                                                  \n",
            " conv3_block2_1_relu (Activatio  (None, 28, 28, 128)  0          ['conv3_block2_1_bn[0][0]']      \n",
            " n)                                                                                               \n",
            "                                                                                                  \n",
            " conv3_block2_2_conv (Conv2D)   (None, 28, 28, 128)  147584      ['conv3_block2_1_relu[0][0]']    \n",
            "                                                                                                  \n",
            " conv3_block2_2_bn (BatchNormal  (None, 28, 28, 128)  512        ['conv3_block2_2_conv[0][0]']    \n",
            " ization)                                                                                         \n",
            "                                                                                                  \n",
            " conv3_block2_2_relu (Activatio  (None, 28, 28, 128)  0          ['conv3_block2_2_bn[0][0]']      \n",
            " n)                                                                                               \n",
            "                                                                                                  \n",
            " conv3_block2_3_conv (Conv2D)   (None, 28, 28, 512)  66048       ['conv3_block2_2_relu[0][0]']    \n",
            "                                                                                                  \n",
            " conv3_block2_3_bn (BatchNormal  (None, 28, 28, 512)  2048       ['conv3_block2_3_conv[0][0]']    \n",
            " ization)                                                                                         \n",
            "                                                                                                  \n",
            " conv3_block2_add (Add)         (None, 28, 28, 512)  0           ['conv3_block1_out[0][0]',       \n",
            "                                                                  'conv3_block2_3_bn[0][0]']      \n",
            "                                                                                                  \n",
            " conv3_block2_out (Activation)  (None, 28, 28, 512)  0           ['conv3_block2_add[0][0]']       \n",
            "                                                                                                  \n",
            " conv3_block3_1_conv (Conv2D)   (None, 28, 28, 128)  65664       ['conv3_block2_out[0][0]']       \n",
            "                                                                                                  \n",
            " conv3_block3_1_bn (BatchNormal  (None, 28, 28, 128)  512        ['conv3_block3_1_conv[0][0]']    \n",
            " ization)                                                                                         \n",
            "                                                                                                  \n",
            " conv3_block3_1_relu (Activatio  (None, 28, 28, 128)  0          ['conv3_block3_1_bn[0][0]']      \n",
            " n)                                                                                               \n",
            "                                                                                                  \n",
            " conv3_block3_2_conv (Conv2D)   (None, 28, 28, 128)  147584      ['conv3_block3_1_relu[0][0]']    \n",
            "                                                                                                  \n",
            " conv3_block3_2_bn (BatchNormal  (None, 28, 28, 128)  512        ['conv3_block3_2_conv[0][0]']    \n",
            " ization)                                                                                         \n",
            "                                                                                                  \n",
            " conv3_block3_2_relu (Activatio  (None, 28, 28, 128)  0          ['conv3_block3_2_bn[0][0]']      \n",
            " n)                                                                                               \n",
            "                                                                                                  \n",
            " conv3_block3_3_conv (Conv2D)   (None, 28, 28, 512)  66048       ['conv3_block3_2_relu[0][0]']    \n",
            "                                                                                                  \n",
            " conv3_block3_3_bn (BatchNormal  (None, 28, 28, 512)  2048       ['conv3_block3_3_conv[0][0]']    \n",
            " ization)                                                                                         \n",
            "                                                                                                  \n",
            " conv3_block3_add (Add)         (None, 28, 28, 512)  0           ['conv3_block2_out[0][0]',       \n",
            "                                                                  'conv3_block3_3_bn[0][0]']      \n",
            "                                                                                                  \n",
            " conv3_block3_out (Activation)  (None, 28, 28, 512)  0           ['conv3_block3_add[0][0]']       \n",
            "                                                                                                  \n",
            " conv3_block4_1_conv (Conv2D)   (None, 28, 28, 128)  65664       ['conv3_block3_out[0][0]']       \n",
            "                                                                                                  \n",
            " conv3_block4_1_bn (BatchNormal  (None, 28, 28, 128)  512        ['conv3_block4_1_conv[0][0]']    \n",
            " ization)                                                                                         \n",
            "                                                                                                  \n",
            " conv3_block4_1_relu (Activatio  (None, 28, 28, 128)  0          ['conv3_block4_1_bn[0][0]']      \n",
            " n)                                                                                               \n",
            "                                                                                                  \n",
            " conv3_block4_2_conv (Conv2D)   (None, 28, 28, 128)  147584      ['conv3_block4_1_relu[0][0]']    \n",
            "                                                                                                  \n",
            " conv3_block4_2_bn (BatchNormal  (None, 28, 28, 128)  512        ['conv3_block4_2_conv[0][0]']    \n",
            " ization)                                                                                         \n",
            "                                                                                                  \n",
            " conv3_block4_2_relu (Activatio  (None, 28, 28, 128)  0          ['conv3_block4_2_bn[0][0]']      \n",
            " n)                                                                                               \n",
            "                                                                                                  \n",
            " conv3_block4_3_conv (Conv2D)   (None, 28, 28, 512)  66048       ['conv3_block4_2_relu[0][0]']    \n",
            "                                                                                                  \n",
            " conv3_block4_3_bn (BatchNormal  (None, 28, 28, 512)  2048       ['conv3_block4_3_conv[0][0]']    \n",
            " ization)                                                                                         \n",
            "                                                                                                  \n",
            " conv3_block4_add (Add)         (None, 28, 28, 512)  0           ['conv3_block3_out[0][0]',       \n",
            "                                                                  'conv3_block4_3_bn[0][0]']      \n",
            "                                                                                                  \n",
            " conv3_block4_out (Activation)  (None, 28, 28, 512)  0           ['conv3_block4_add[0][0]']       \n",
            "                                                                                                  \n",
            " conv4_block1_1_conv (Conv2D)   (None, 14, 14, 256)  131328      ['conv3_block4_out[0][0]']       \n",
            "                                                                                                  \n",
            " conv4_block1_1_bn (BatchNormal  (None, 14, 14, 256)  1024       ['conv4_block1_1_conv[0][0]']    \n",
            " ization)                                                                                         \n",
            "                                                                                                  \n",
            " conv4_block1_1_relu (Activatio  (None, 14, 14, 256)  0          ['conv4_block1_1_bn[0][0]']      \n",
            " n)                                                                                               \n",
            "                                                                                                  \n",
            " conv4_block1_2_conv (Conv2D)   (None, 14, 14, 256)  590080      ['conv4_block1_1_relu[0][0]']    \n",
            "                                                                                                  \n",
            " conv4_block1_2_bn (BatchNormal  (None, 14, 14, 256)  1024       ['conv4_block1_2_conv[0][0]']    \n",
            " ization)                                                                                         \n",
            "                                                                                                  \n",
            " conv4_block1_2_relu (Activatio  (None, 14, 14, 256)  0          ['conv4_block1_2_bn[0][0]']      \n",
            " n)                                                                                               \n",
            "                                                                                                  \n",
            " conv4_block1_0_conv (Conv2D)   (None, 14, 14, 1024  525312      ['conv3_block4_out[0][0]']       \n",
            "                                )                                                                 \n",
            "                                                                                                  \n",
            " conv4_block1_3_conv (Conv2D)   (None, 14, 14, 1024  263168      ['conv4_block1_2_relu[0][0]']    \n",
            "                                )                                                                 \n",
            "                                                                                                  \n",
            " conv4_block1_0_bn (BatchNormal  (None, 14, 14, 1024  4096       ['conv4_block1_0_conv[0][0]']    \n",
            " ization)                       )                                                                 \n",
            "                                                                                                  \n",
            " conv4_block1_3_bn (BatchNormal  (None, 14, 14, 1024  4096       ['conv4_block1_3_conv[0][0]']    \n",
            " ization)                       )                                                                 \n",
            "                                                                                                  \n",
            " conv4_block1_add (Add)         (None, 14, 14, 1024  0           ['conv4_block1_0_bn[0][0]',      \n",
            "                                )                                 'conv4_block1_3_bn[0][0]']      \n",
            "                                                                                                  \n",
            " conv4_block1_out (Activation)  (None, 14, 14, 1024  0           ['conv4_block1_add[0][0]']       \n",
            "                                )                                                                 \n",
            "                                                                                                  \n",
            " conv4_block2_1_conv (Conv2D)   (None, 14, 14, 256)  262400      ['conv4_block1_out[0][0]']       \n",
            "                                                                                                  \n",
            " conv4_block2_1_bn (BatchNormal  (None, 14, 14, 256)  1024       ['conv4_block2_1_conv[0][0]']    \n",
            " ization)                                                                                         \n",
            "                                                                                                  \n",
            " conv4_block2_1_relu (Activatio  (None, 14, 14, 256)  0          ['conv4_block2_1_bn[0][0]']      \n",
            " n)                                                                                               \n",
            "                                                                                                  \n",
            " conv4_block2_2_conv (Conv2D)   (None, 14, 14, 256)  590080      ['conv4_block2_1_relu[0][0]']    \n",
            "                                                                                                  \n",
            " conv4_block2_2_bn (BatchNormal  (None, 14, 14, 256)  1024       ['conv4_block2_2_conv[0][0]']    \n",
            " ization)                                                                                         \n",
            "                                                                                                  \n",
            " conv4_block2_2_relu (Activatio  (None, 14, 14, 256)  0          ['conv4_block2_2_bn[0][0]']      \n",
            " n)                                                                                               \n",
            "                                                                                                  \n",
            " conv4_block2_3_conv (Conv2D)   (None, 14, 14, 1024  263168      ['conv4_block2_2_relu[0][0]']    \n",
            "                                )                                                                 \n",
            "                                                                                                  \n",
            " conv4_block2_3_bn (BatchNormal  (None, 14, 14, 1024  4096       ['conv4_block2_3_conv[0][0]']    \n",
            " ization)                       )                                                                 \n",
            "                                                                                                  \n",
            " conv4_block2_add (Add)         (None, 14, 14, 1024  0           ['conv4_block1_out[0][0]',       \n",
            "                                )                                 'conv4_block2_3_bn[0][0]']      \n",
            "                                                                                                  \n",
            " conv4_block2_out (Activation)  (None, 14, 14, 1024  0           ['conv4_block2_add[0][0]']       \n",
            "                                )                                                                 \n",
            "                                                                                                  \n",
            " conv4_block3_1_conv (Conv2D)   (None, 14, 14, 256)  262400      ['conv4_block2_out[0][0]']       \n",
            "                                                                                                  \n",
            " conv4_block3_1_bn (BatchNormal  (None, 14, 14, 256)  1024       ['conv4_block3_1_conv[0][0]']    \n",
            " ization)                                                                                         \n",
            "                                                                                                  \n",
            " conv4_block3_1_relu (Activatio  (None, 14, 14, 256)  0          ['conv4_block3_1_bn[0][0]']      \n",
            " n)                                                                                               \n",
            "                                                                                                  \n",
            " conv4_block3_2_conv (Conv2D)   (None, 14, 14, 256)  590080      ['conv4_block3_1_relu[0][0]']    \n",
            "                                                                                                  \n",
            " conv4_block3_2_bn (BatchNormal  (None, 14, 14, 256)  1024       ['conv4_block3_2_conv[0][0]']    \n",
            " ization)                                                                                         \n",
            "                                                                                                  \n",
            " conv4_block3_2_relu (Activatio  (None, 14, 14, 256)  0          ['conv4_block3_2_bn[0][0]']      \n",
            " n)                                                                                               \n",
            "                                                                                                  \n",
            " conv4_block3_3_conv (Conv2D)   (None, 14, 14, 1024  263168      ['conv4_block3_2_relu[0][0]']    \n",
            "                                )                                                                 \n",
            "                                                                                                  \n",
            " conv4_block3_3_bn (BatchNormal  (None, 14, 14, 1024  4096       ['conv4_block3_3_conv[0][0]']    \n",
            " ization)                       )                                                                 \n",
            "                                                                                                  \n",
            " conv4_block3_add (Add)         (None, 14, 14, 1024  0           ['conv4_block2_out[0][0]',       \n",
            "                                )                                 'conv4_block3_3_bn[0][0]']      \n",
            "                                                                                                  \n",
            " conv4_block3_out (Activation)  (None, 14, 14, 1024  0           ['conv4_block3_add[0][0]']       \n",
            "                                )                                                                 \n",
            "                                                                                                  \n",
            " conv4_block4_1_conv (Conv2D)   (None, 14, 14, 256)  262400      ['conv4_block3_out[0][0]']       \n",
            "                                                                                                  \n",
            " conv4_block4_1_bn (BatchNormal  (None, 14, 14, 256)  1024       ['conv4_block4_1_conv[0][0]']    \n",
            " ization)                                                                                         \n",
            "                                                                                                  \n",
            " conv4_block4_1_relu (Activatio  (None, 14, 14, 256)  0          ['conv4_block4_1_bn[0][0]']      \n",
            " n)                                                                                               \n",
            "                                                                                                  \n",
            " conv4_block4_2_conv (Conv2D)   (None, 14, 14, 256)  590080      ['conv4_block4_1_relu[0][0]']    \n",
            "                                                                                                  \n",
            " conv4_block4_2_bn (BatchNormal  (None, 14, 14, 256)  1024       ['conv4_block4_2_conv[0][0]']    \n",
            " ization)                                                                                         \n",
            "                                                                                                  \n",
            " conv4_block4_2_relu (Activatio  (None, 14, 14, 256)  0          ['conv4_block4_2_bn[0][0]']      \n",
            " n)                                                                                               \n",
            "                                                                                                  \n",
            " conv4_block4_3_conv (Conv2D)   (None, 14, 14, 1024  263168      ['conv4_block4_2_relu[0][0]']    \n",
            "                                )                                                                 \n",
            "                                                                                                  \n",
            " conv4_block4_3_bn (BatchNormal  (None, 14, 14, 1024  4096       ['conv4_block4_3_conv[0][0]']    \n",
            " ization)                       )                                                                 \n",
            "                                                                                                  \n",
            " conv4_block4_add (Add)         (None, 14, 14, 1024  0           ['conv4_block3_out[0][0]',       \n",
            "                                )                                 'conv4_block4_3_bn[0][0]']      \n",
            "                                                                                                  \n",
            " conv4_block4_out (Activation)  (None, 14, 14, 1024  0           ['conv4_block4_add[0][0]']       \n",
            "                                )                                                                 \n",
            "                                                                                                  \n",
            " conv4_block5_1_conv (Conv2D)   (None, 14, 14, 256)  262400      ['conv4_block4_out[0][0]']       \n",
            "                                                                                                  \n",
            " conv4_block5_1_bn (BatchNormal  (None, 14, 14, 256)  1024       ['conv4_block5_1_conv[0][0]']    \n",
            " ization)                                                                                         \n",
            "                                                                                                  \n",
            " conv4_block5_1_relu (Activatio  (None, 14, 14, 256)  0          ['conv4_block5_1_bn[0][0]']      \n",
            " n)                                                                                               \n",
            "                                                                                                  \n",
            " conv4_block5_2_conv (Conv2D)   (None, 14, 14, 256)  590080      ['conv4_block5_1_relu[0][0]']    \n",
            "                                                                                                  \n",
            " conv4_block5_2_bn (BatchNormal  (None, 14, 14, 256)  1024       ['conv4_block5_2_conv[0][0]']    \n",
            " ization)                                                                                         \n",
            "                                                                                                  \n",
            " conv4_block5_2_relu (Activatio  (None, 14, 14, 256)  0          ['conv4_block5_2_bn[0][0]']      \n",
            " n)                                                                                               \n",
            "                                                                                                  \n",
            " conv4_block5_3_conv (Conv2D)   (None, 14, 14, 1024  263168      ['conv4_block5_2_relu[0][0]']    \n",
            "                                )                                                                 \n",
            "                                                                                                  \n",
            " conv4_block5_3_bn (BatchNormal  (None, 14, 14, 1024  4096       ['conv4_block5_3_conv[0][0]']    \n",
            " ization)                       )                                                                 \n",
            "                                                                                                  \n",
            " conv4_block5_add (Add)         (None, 14, 14, 1024  0           ['conv4_block4_out[0][0]',       \n",
            "                                )                                 'conv4_block5_3_bn[0][0]']      \n",
            "                                                                                                  \n",
            " conv4_block5_out (Activation)  (None, 14, 14, 1024  0           ['conv4_block5_add[0][0]']       \n",
            "                                )                                                                 \n",
            "                                                                                                  \n",
            " conv4_block6_1_conv (Conv2D)   (None, 14, 14, 256)  262400      ['conv4_block5_out[0][0]']       \n",
            "                                                                                                  \n",
            " conv4_block6_1_bn (BatchNormal  (None, 14, 14, 256)  1024       ['conv4_block6_1_conv[0][0]']    \n",
            " ization)                                                                                         \n",
            "                                                                                                  \n",
            " conv4_block6_1_relu (Activatio  (None, 14, 14, 256)  0          ['conv4_block6_1_bn[0][0]']      \n",
            " n)                                                                                               \n",
            "                                                                                                  \n",
            " conv4_block6_2_conv (Conv2D)   (None, 14, 14, 256)  590080      ['conv4_block6_1_relu[0][0]']    \n",
            "                                                                                                  \n",
            " conv4_block6_2_bn (BatchNormal  (None, 14, 14, 256)  1024       ['conv4_block6_2_conv[0][0]']    \n",
            " ization)                                                                                         \n",
            "                                                                                                  \n",
            " conv4_block6_2_relu (Activatio  (None, 14, 14, 256)  0          ['conv4_block6_2_bn[0][0]']      \n",
            " n)                                                                                               \n",
            "                                                                                                  \n",
            " conv4_block6_3_conv (Conv2D)   (None, 14, 14, 1024  263168      ['conv4_block6_2_relu[0][0]']    \n",
            "                                )                                                                 \n",
            "                                                                                                  \n",
            " conv4_block6_3_bn (BatchNormal  (None, 14, 14, 1024  4096       ['conv4_block6_3_conv[0][0]']    \n",
            " ization)                       )                                                                 \n",
            "                                                                                                  \n",
            " conv4_block6_add (Add)         (None, 14, 14, 1024  0           ['conv4_block5_out[0][0]',       \n",
            "                                )                                 'conv4_block6_3_bn[0][0]']      \n",
            "                                                                                                  \n",
            " conv4_block6_out (Activation)  (None, 14, 14, 1024  0           ['conv4_block6_add[0][0]']       \n",
            "                                )                                                                 \n",
            "                                                                                                  \n",
            "==================================================================================================\n",
            "Total params: 8,589,184\n",
            "Trainable params: 0\n",
            "Non-trainable params: 8,589,184\n",
            "__________________________________________________________________________________________________\n"
          ]
        }
      ]
    },
    {
      "cell_type": "code",
      "source": [
        "inputs = keras.Input(shape=(224,224,3))\n",
        "x = data_augmentation_layers(inputs)\n",
        "x = keras.applications.resnet50.preprocess_input(x)\n",
        "x = model(x)\n",
        "x = layers.GlobalAveragePooling2D(name='gap')(x)\n",
        "x = layers.Flatten(name='flatten')(x)\n",
        "x = layers.Dense(256,activation='relu', name='classifier_hidden')(x)\n",
        "x = layers.Dropout(0.5)(x)\n",
        "output = layers.Dense(len(CLASSES), activation='softmax')(x)\n",
        "model = tf.keras.models.Model(inputs=inputs, outputs=output, name=\"ResNet50_Cutted\")\n",
        "model = compile_model(model, loss=\"sparse_categorical_crossentropy\")\n",
        "model.summary()"
      ],
      "metadata": {
        "colab": {
          "base_uri": "https://localhost:8080/"
        },
        "outputId": "45ca067d-ec4d-4b56-8057-67fad20a86ec",
        "id": "qZhbQcAH6G4K"
      },
      "execution_count": null,
      "outputs": [
        {
          "output_type": "stream",
          "name": "stdout",
          "text": [
            "Model: \"ResNet50_Cutted\"\n",
            "_________________________________________________________________\n",
            " Layer (type)                Output Shape              Param #   \n",
            "=================================================================\n",
            " input_6 (InputLayer)        [(None, 224, 224, 3)]     0         \n",
            "                                                                 \n",
            " sequential_1 (Sequential)   (None, 224, 224, 3)       0         \n",
            "                                                                 \n",
            " tf.__operators__.getitem_2   (None, 224, 224, 3)      0         \n",
            " (SlicingOpLambda)                                               \n",
            "                                                                 \n",
            " tf.nn.bias_add_2 (TFOpLambd  (None, 224, 224, 3)      0         \n",
            " a)                                                              \n",
            "                                                                 \n",
            " base (Functional)           (None, 14, 14, 1024)      8589184   \n",
            "                                                                 \n",
            " gap (GlobalAveragePooling2D  (None, 1024)             0         \n",
            " )                                                               \n",
            "                                                                 \n",
            " flatten (Flatten)           (None, 1024)              0         \n",
            "                                                                 \n",
            " classifier_hidden (Dense)   (None, 256)               262400    \n",
            "                                                                 \n",
            " dropout_2 (Dropout)         (None, 256)               0         \n",
            "                                                                 \n",
            " dense_2 (Dense)             (None, 4)                 1028      \n",
            "                                                                 \n",
            "=================================================================\n",
            "Total params: 8,852,612\n",
            "Trainable params: 263,428\n",
            "Non-trainable params: 8,589,184\n",
            "_________________________________________________________________\n"
          ]
        }
      ]
    },
    {
      "cell_type": "code",
      "source": [
        "model, history = run_model(model, model.name, train_ds, val_ds, 50, patience=3, monitor='val_loss')\n",
        "plot_accuracy_and_loss_history(history)"
      ],
      "metadata": {
        "colab": {
          "base_uri": "https://localhost:8080/",
          "height": 1000
        },
        "outputId": "386d09be-cea7-4dea-f138-c7f9001ab852",
        "id": "JwNQCx236G4L"
      },
      "execution_count": null,
      "outputs": [
        {
          "output_type": "stream",
          "name": "stdout",
          "text": [
            "Epoch 1/50\n",
            "66/66 [==============================] - ETA: 0s - loss: 0.8484 - accuracy: 0.6701\n",
            "Epoch 1: val_loss improved from inf to 0.49300, saving model to model/ResNet50_Cutted.h5\n",
            "66/66 [==============================] - 16s 185ms/step - loss: 0.8484 - accuracy: 0.6701 - val_loss: 0.4930 - val_accuracy: 0.8419\n",
            "Epoch 2/50\n",
            "66/66 [==============================] - ETA: 0s - loss: 0.5029 - accuracy: 0.8213\n",
            "Epoch 2: val_loss improved from 0.49300 to 0.40534, saving model to model/ResNet50_Cutted.h5\n",
            "66/66 [==============================] - 12s 163ms/step - loss: 0.5029 - accuracy: 0.8213 - val_loss: 0.4053 - val_accuracy: 0.8654\n",
            "Epoch 3/50\n",
            "66/66 [==============================] - ETA: 0s - loss: 0.4190 - accuracy: 0.8436\n",
            "Epoch 3: val_loss improved from 0.40534 to 0.34978, saving model to model/ResNet50_Cutted.h5\n",
            "66/66 [==============================] - 12s 162ms/step - loss: 0.4190 - accuracy: 0.8436 - val_loss: 0.3498 - val_accuracy: 0.8853\n",
            "Epoch 4/50\n",
            "66/66 [==============================] - ETA: 0s - loss: 0.3679 - accuracy: 0.8678\n",
            "Epoch 4: val_loss improved from 0.34978 to 0.32083, saving model to model/ResNet50_Cutted.h5\n",
            "66/66 [==============================] - 12s 177ms/step - loss: 0.3679 - accuracy: 0.8678 - val_loss: 0.3208 - val_accuracy: 0.8953\n",
            "Epoch 5/50\n",
            "66/66 [==============================] - ETA: 0s - loss: 0.3571 - accuracy: 0.8723\n",
            "Epoch 5: val_loss improved from 0.32083 to 0.30255, saving model to model/ResNet50_Cutted.h5\n",
            "66/66 [==============================] - 11s 163ms/step - loss: 0.3571 - accuracy: 0.8723 - val_loss: 0.3026 - val_accuracy: 0.8939\n",
            "Epoch 6/50\n",
            "66/66 [==============================] - ETA: 0s - loss: 0.3340 - accuracy: 0.8756\n",
            "Epoch 6: val_loss improved from 0.30255 to 0.28827, saving model to model/ResNet50_Cutted.h5\n",
            "66/66 [==============================] - 11s 162ms/step - loss: 0.3340 - accuracy: 0.8756 - val_loss: 0.2883 - val_accuracy: 0.8939\n",
            "Epoch 7/50\n",
            "66/66 [==============================] - ETA: 0s - loss: 0.3240 - accuracy: 0.8842\n",
            "Epoch 7: val_loss improved from 0.28827 to 0.26929, saving model to model/ResNet50_Cutted.h5\n",
            "66/66 [==============================] - 12s 162ms/step - loss: 0.3240 - accuracy: 0.8842 - val_loss: 0.2693 - val_accuracy: 0.9024\n",
            "Epoch 8/50\n",
            "66/66 [==============================] - ETA: 0s - loss: 0.3020 - accuracy: 0.8887\n",
            "Epoch 8: val_loss improved from 0.26929 to 0.26628, saving model to model/ResNet50_Cutted.h5\n",
            "66/66 [==============================] - 11s 163ms/step - loss: 0.3020 - accuracy: 0.8887 - val_loss: 0.2663 - val_accuracy: 0.9060\n",
            "Epoch 9/50\n",
            "66/66 [==============================] - ETA: 0s - loss: 0.2792 - accuracy: 0.8994\n",
            "Epoch 9: val_loss improved from 0.26628 to 0.26204, saving model to model/ResNet50_Cutted.h5\n",
            "66/66 [==============================] - 12s 163ms/step - loss: 0.2792 - accuracy: 0.8994 - val_loss: 0.2620 - val_accuracy: 0.9060\n",
            "Epoch 10/50\n",
            "66/66 [==============================] - ETA: 0s - loss: 0.2702 - accuracy: 0.9034\n",
            "Epoch 10: val_loss improved from 0.26204 to 0.24827, saving model to model/ResNet50_Cutted.h5\n",
            "66/66 [==============================] - 11s 162ms/step - loss: 0.2702 - accuracy: 0.9034 - val_loss: 0.2483 - val_accuracy: 0.9067\n",
            "Epoch 11/50\n",
            "66/66 [==============================] - ETA: 0s - loss: 0.2581 - accuracy: 0.9058\n",
            "Epoch 11: val_loss did not improve from 0.24827\n",
            "66/66 [==============================] - 11s 159ms/step - loss: 0.2581 - accuracy: 0.9058 - val_loss: 0.2557 - val_accuracy: 0.9046\n",
            "Epoch 12/50\n",
            "66/66 [==============================] - ETA: 0s - loss: 0.2643 - accuracy: 0.9027\n",
            "Epoch 12: val_loss improved from 0.24827 to 0.24166, saving model to model/ResNet50_Cutted.h5\n",
            "66/66 [==============================] - 11s 163ms/step - loss: 0.2643 - accuracy: 0.9027 - val_loss: 0.2417 - val_accuracy: 0.9131\n",
            "Epoch 13/50\n",
            "66/66 [==============================] - ETA: 0s - loss: 0.2714 - accuracy: 0.8965\n",
            "Epoch 13: val_loss did not improve from 0.24166\n",
            "66/66 [==============================] - 11s 153ms/step - loss: 0.2714 - accuracy: 0.8965 - val_loss: 0.2597 - val_accuracy: 0.9003\n",
            "Epoch 14/50\n",
            "66/66 [==============================] - ETA: 0s - loss: 0.2515 - accuracy: 0.9096\n",
            "Epoch 14: val_loss improved from 0.24166 to 0.23017, saving model to model/ResNet50_Cutted.h5\n",
            "66/66 [==============================] - 11s 162ms/step - loss: 0.2515 - accuracy: 0.9096 - val_loss: 0.2302 - val_accuracy: 0.9131\n",
            "Epoch 15/50\n",
            "66/66 [==============================] - ETA: 0s - loss: 0.2266 - accuracy: 0.9186\n",
            "Epoch 15: val_loss improved from 0.23017 to 0.21794, saving model to model/ResNet50_Cutted.h5\n",
            "66/66 [==============================] - 11s 163ms/step - loss: 0.2266 - accuracy: 0.9186 - val_loss: 0.2179 - val_accuracy: 0.9174\n",
            "Epoch 16/50\n",
            "66/66 [==============================] - ETA: 0s - loss: 0.2416 - accuracy: 0.9098\n",
            "Epoch 16: val_loss did not improve from 0.21794\n",
            "66/66 [==============================] - 11s 157ms/step - loss: 0.2416 - accuracy: 0.9098 - val_loss: 0.2455 - val_accuracy: 0.9067\n",
            "Epoch 17/50\n",
            "66/66 [==============================] - ETA: 0s - loss: 0.2321 - accuracy: 0.9155\n",
            "Epoch 17: val_loss did not improve from 0.21794\n",
            "66/66 [==============================] - 11s 155ms/step - loss: 0.2321 - accuracy: 0.9155 - val_loss: 0.2205 - val_accuracy: 0.9209\n",
            "Epoch 18/50\n",
            "66/66 [==============================] - ETA: 0s - loss: 0.2165 - accuracy: 0.9217\n",
            "Epoch 18: val_loss improved from 0.21794 to 0.21403, saving model to model/ResNet50_Cutted.h5\n",
            "66/66 [==============================] - 11s 160ms/step - loss: 0.2165 - accuracy: 0.9217 - val_loss: 0.2140 - val_accuracy: 0.9195\n",
            "Epoch 19/50\n",
            "66/66 [==============================] - ETA: 0s - loss: 0.2274 - accuracy: 0.9157\n",
            "Epoch 19: val_loss improved from 0.21403 to 0.21131, saving model to model/ResNet50_Cutted.h5\n",
            "66/66 [==============================] - 11s 161ms/step - loss: 0.2274 - accuracy: 0.9157 - val_loss: 0.2113 - val_accuracy: 0.9195\n",
            "Epoch 20/50\n",
            "66/66 [==============================] - ETA: 0s - loss: 0.2120 - accuracy: 0.9231\n",
            "Epoch 20: val_loss did not improve from 0.21131\n",
            "66/66 [==============================] - 11s 156ms/step - loss: 0.2120 - accuracy: 0.9231 - val_loss: 0.2304 - val_accuracy: 0.9181\n",
            "Epoch 21/50\n",
            "66/66 [==============================] - ETA: 0s - loss: 0.1989 - accuracy: 0.9271\n",
            "Epoch 21: val_loss improved from 0.21131 to 0.21041, saving model to model/ResNet50_Cutted.h5\n",
            "66/66 [==============================] - 11s 159ms/step - loss: 0.1989 - accuracy: 0.9271 - val_loss: 0.2104 - val_accuracy: 0.9231\n",
            "Epoch 22/50\n",
            "66/66 [==============================] - ETA: 0s - loss: 0.1898 - accuracy: 0.9297\n",
            "Epoch 22: val_loss improved from 0.21041 to 0.20723, saving model to model/ResNet50_Cutted.h5\n",
            "66/66 [==============================] - 11s 160ms/step - loss: 0.1898 - accuracy: 0.9297 - val_loss: 0.2072 - val_accuracy: 0.9295\n",
            "Epoch 23/50\n",
            "66/66 [==============================] - ETA: 0s - loss: 0.1915 - accuracy: 0.9316\n",
            "Epoch 23: val_loss did not improve from 0.20723\n",
            "66/66 [==============================] - 11s 154ms/step - loss: 0.1915 - accuracy: 0.9316 - val_loss: 0.2243 - val_accuracy: 0.9188\n",
            "Epoch 24/50\n",
            "66/66 [==============================] - ETA: 0s - loss: 0.1891 - accuracy: 0.9324\n",
            "Epoch 24: val_loss did not improve from 0.20723\n",
            "66/66 [==============================] - 11s 154ms/step - loss: 0.1891 - accuracy: 0.9324 - val_loss: 0.2082 - val_accuracy: 0.9245\n",
            "Epoch 25/50\n",
            "66/66 [==============================] - ETA: 0s - loss: 0.1945 - accuracy: 0.9278\n",
            "Epoch 25: val_loss did not improve from 0.20723\n",
            "66/66 [==============================] - 11s 156ms/step - loss: 0.1945 - accuracy: 0.9278 - val_loss: 0.2514 - val_accuracy: 0.9081\n",
            "Saving /content/gdrive/MyDrive/BrainTumorClassifier/Models/ResNet50_Cutted/history.pkl\n",
            "INFO:tensorflow:Assets written to: ram://9489ce21-f7b0-4caa-9114-4f88bdc5e441/assets\n"
          ]
        },
        {
          "output_type": "display_data",
          "data": {
            "text/plain": [
              "<Figure size 432x288 with 1 Axes>"
            ],
            "image/png": "[encoded data removed]"
          },
          "metadata": {
            "needs_background": "light"
          }
        },
        {
          "output_type": "display_data",
          "data": {
            "text/plain": [
              "<Figure size 432x288 with 1 Axes>"
            ],
            "image/png": "[encoded data removed]"
          },
          "metadata": {
            "needs_background": "light"
          }
        }
      ]
    },
    {
      "cell_type": "code",
      "source": [
        "evaluate_model(model, test_ds)"
      ],
      "metadata": {
        "colab": {
          "base_uri": "https://localhost:8080/"
        },
        "outputId": "915afb1c-b7f6-4a8a-88ff-7cf5c980fe87",
        "id": "UrGX9Pb86G4L"
      },
      "execution_count": null,
      "outputs": [
        {
          "output_type": "stream",
          "name": "stdout",
          "text": [
            "22/22 [==============================] - 4s 116ms/step - loss: 0.2130 - accuracy: 0.9211\n",
            "Loss on test set: 0.21303817629814148\n",
            "Accuracy on test set: 0.9210526347160339\n",
            "              precision    recall  f1-score   support\n",
            "\n",
            "      glioma     0.9359    0.8985    0.9168       325\n",
            "  meningioma     0.8416    0.8723    0.8567       329\n",
            "     notumor     0.9673    0.9600    0.9636       400\n",
            "   pituitary     0.9326    0.9432    0.9379       352\n",
            "\n",
            "    accuracy                         0.9211      1406\n",
            "   macro avg     0.9193    0.9185    0.9187      1406\n",
            "weighted avg     0.9219    0.9211    0.9213      1406\n",
            "\n"
          ]
        }
      ]
    },
    {
      "cell_type": "code",
      "source": [
        "plot_confusionmatrix(model, test_ds)"
      ],
      "metadata": {
        "colab": {
          "base_uri": "https://localhost:8080/",
          "height": 627
        },
        "outputId": "9efd67de-a58c-494c-941e-76416896a45a",
        "id": "Bn5dFSDG6G4M"
      },
      "execution_count": null,
      "outputs": [
        {
          "output_type": "stream",
          "name": "stdout",
          "text": [
            "22/22 [==============================] - 3s 117ms/step\n"
          ]
        },
        {
          "output_type": "display_data",
          "data": {
            "text/plain": [
              "<Figure size 720x720 with 2 Axes>"
            ],
            "image/png": "[encoded data removed]"
          },
          "metadata": {
            "needs_background": "light"
          }
        }
      ]
    },
    {
      "cell_type": "markdown",
      "source": [
        "## Fine Tuning chopped model\n",
        "Now it is time to unfreeze the last block of ResNet50 to fine tune its weigths on our dataset."
      ],
      "metadata": {
        "id": "lY3Yt87DDFGC"
      }
    },
    {
      "cell_type": "code",
      "source": [
        "model.get_layer(\"base\").summary()"
      ],
      "metadata": {
        "colab": {
          "base_uri": "https://localhost:8080/"
        },
        "id": "xva690ContXy",
        "outputId": "d5fdb7ef-75b8-4a54-f5ee-881cc8a9a53c"
      },
      "execution_count": null,
      "outputs": [
        {
          "output_type": "stream",
          "name": "stdout",
          "text": [
            "Model: \"base\"\n",
            "__________________________________________________________________________________________________\n",
            " Layer (type)                   Output Shape         Param #     Connected to                     \n",
            "==================================================================================================\n",
            " input_5 (InputLayer)           [(None, 224, 224, 3  0           []                               \n",
            "                                )]                                                                \n",
            "                                                                                                  \n",
            " conv1_pad (ZeroPadding2D)      (None, 230, 230, 3)  0           ['input_5[0][0]']                \n",
            "                                                                                                  \n",
            " conv1_conv (Conv2D)            (None, 112, 112, 64  9472        ['conv1_pad[0][0]']              \n",
            "                                )                                                                 \n",
            "                                                                                                  \n",
            " conv1_bn (BatchNormalization)  (None, 112, 112, 64  256         ['conv1_conv[0][0]']             \n",
            "                                )                                                                 \n",
            "                                                                                                  \n",
            " conv1_relu (Activation)        (None, 112, 112, 64  0           ['conv1_bn[0][0]']               \n",
            "                                )                                                                 \n",
            "                                                                                                  \n",
            " pool1_pad (ZeroPadding2D)      (None, 114, 114, 64  0           ['conv1_relu[0][0]']             \n",
            "                                )                                                                 \n",
            "                                                                                                  \n",
            " pool1_pool (MaxPooling2D)      (None, 56, 56, 64)   0           ['pool1_pad[0][0]']              \n",
            "                                                                                                  \n",
            " conv2_block1_1_conv (Conv2D)   (None, 56, 56, 64)   4160        ['pool1_pool[0][0]']             \n",
            "                                                                                                  \n",
            " conv2_block1_1_bn (BatchNormal  (None, 56, 56, 64)  256         ['conv2_block1_1_conv[0][0]']    \n",
            " ization)                                                                                         \n",
            "                                                                                                  \n",
            " conv2_block1_1_relu (Activatio  (None, 56, 56, 64)  0           ['conv2_block1_1_bn[0][0]']      \n",
            " n)                                                                                               \n",
            "                                                                                                  \n",
            " conv2_block1_2_conv (Conv2D)   (None, 56, 56, 64)   36928       ['conv2_block1_1_relu[0][0]']    \n",
            "                                                                                                  \n",
            " conv2_block1_2_bn (BatchNormal  (None, 56, 56, 64)  256         ['conv2_block1_2_conv[0][0]']    \n",
            " ization)                                                                                         \n",
            "                                                                                                  \n",
            " conv2_block1_2_relu (Activatio  (None, 56, 56, 64)  0           ['conv2_block1_2_bn[0][0]']      \n",
            " n)                                                                                               \n",
            "                                                                                                  \n",
            " conv2_block1_0_conv (Conv2D)   (None, 56, 56, 256)  16640       ['pool1_pool[0][0]']             \n",
            "                                                                                                  \n",
            " conv2_block1_3_conv (Conv2D)   (None, 56, 56, 256)  16640       ['conv2_block1_2_relu[0][0]']    \n",
            "                                                                                                  \n",
            " conv2_block1_0_bn (BatchNormal  (None, 56, 56, 256)  1024       ['conv2_block1_0_conv[0][0]']    \n",
            " ization)                                                                                         \n",
            "                                                                                                  \n",
            " conv2_block1_3_bn (BatchNormal  (None, 56, 56, 256)  1024       ['conv2_block1_3_conv[0][0]']    \n",
            " ization)                                                                                         \n",
            "                                                                                                  \n",
            " conv2_block1_add (Add)         (None, 56, 56, 256)  0           ['conv2_block1_0_bn[0][0]',      \n",
            "                                                                  'conv2_block1_3_bn[0][0]']      \n",
            "                                                                                                  \n",
            " conv2_block1_out (Activation)  (None, 56, 56, 256)  0           ['conv2_block1_add[0][0]']       \n",
            "                                                                                                  \n",
            " conv2_block2_1_conv (Conv2D)   (None, 56, 56, 64)   16448       ['conv2_block1_out[0][0]']       \n",
            "                                                                                                  \n",
            " conv2_block2_1_bn (BatchNormal  (None, 56, 56, 64)  256         ['conv2_block2_1_conv[0][0]']    \n",
            " ization)                                                                                         \n",
            "                                                                                                  \n",
            " conv2_block2_1_relu (Activatio  (None, 56, 56, 64)  0           ['conv2_block2_1_bn[0][0]']      \n",
            " n)                                                                                               \n",
            "                                                                                                  \n",
            " conv2_block2_2_conv (Conv2D)   (None, 56, 56, 64)   36928       ['conv2_block2_1_relu[0][0]']    \n",
            "                                                                                                  \n",
            " conv2_block2_2_bn (BatchNormal  (None, 56, 56, 64)  256         ['conv2_block2_2_conv[0][0]']    \n",
            " ization)                                                                                         \n",
            "                                                                                                  \n",
            " conv2_block2_2_relu (Activatio  (None, 56, 56, 64)  0           ['conv2_block2_2_bn[0][0]']      \n",
            " n)                                                                                               \n",
            "                                                                                                  \n",
            " conv2_block2_3_conv (Conv2D)   (None, 56, 56, 256)  16640       ['conv2_block2_2_relu[0][0]']    \n",
            "                                                                                                  \n",
            " conv2_block2_3_bn (BatchNormal  (None, 56, 56, 256)  1024       ['conv2_block2_3_conv[0][0]']    \n",
            " ization)                                                                                         \n",
            "                                                                                                  \n",
            " conv2_block2_add (Add)         (None, 56, 56, 256)  0           ['conv2_block1_out[0][0]',       \n",
            "                                                                  'conv2_block2_3_bn[0][0]']      \n",
            "                                                                                                  \n",
            " conv2_block2_out (Activation)  (None, 56, 56, 256)  0           ['conv2_block2_add[0][0]']       \n",
            "                                                                                                  \n",
            " conv2_block3_1_conv (Conv2D)   (None, 56, 56, 64)   16448       ['conv2_block2_out[0][0]']       \n",
            "                                                                                                  \n",
            " conv2_block3_1_bn (BatchNormal  (None, 56, 56, 64)  256         ['conv2_block3_1_conv[0][0]']    \n",
            " ization)                                                                                         \n",
            "                                                                                                  \n",
            " conv2_block3_1_relu (Activatio  (None, 56, 56, 64)  0           ['conv2_block3_1_bn[0][0]']      \n",
            " n)                                                                                               \n",
            "                                                                                                  \n",
            " conv2_block3_2_conv (Conv2D)   (None, 56, 56, 64)   36928       ['conv2_block3_1_relu[0][0]']    \n",
            "                                                                                                  \n",
            " conv2_block3_2_bn (BatchNormal  (None, 56, 56, 64)  256         ['conv2_block3_2_conv[0][0]']    \n",
            " ization)                                                                                         \n",
            "                                                                                                  \n",
            " conv2_block3_2_relu (Activatio  (None, 56, 56, 64)  0           ['conv2_block3_2_bn[0][0]']      \n",
            " n)                                                                                               \n",
            "                                                                                                  \n",
            " conv2_block3_3_conv (Conv2D)   (None, 56, 56, 256)  16640       ['conv2_block3_2_relu[0][0]']    \n",
            "                                                                                                  \n",
            " conv2_block3_3_bn (BatchNormal  (None, 56, 56, 256)  1024       ['conv2_block3_3_conv[0][0]']    \n",
            " ization)                                                                                         \n",
            "                                                                                                  \n",
            " conv2_block3_add (Add)         (None, 56, 56, 256)  0           ['conv2_block2_out[0][0]',       \n",
            "                                                                  'conv2_block3_3_bn[0][0]']      \n",
            "                                                                                                  \n",
            " conv2_block3_out (Activation)  (None, 56, 56, 256)  0           ['conv2_block3_add[0][0]']       \n",
            "                                                                                                  \n",
            " conv3_block1_1_conv (Conv2D)   (None, 28, 28, 128)  32896       ['conv2_block3_out[0][0]']       \n",
            "                                                                                                  \n",
            " conv3_block1_1_bn (BatchNormal  (None, 28, 28, 128)  512        ['conv3_block1_1_conv[0][0]']    \n",
            " ization)                                                                                         \n",
            "                                                                                                  \n",
            " conv3_block1_1_relu (Activatio  (None, 28, 28, 128)  0          ['conv3_block1_1_bn[0][0]']      \n",
            " n)                                                                                               \n",
            "                                                                                                  \n",
            " conv3_block1_2_conv (Conv2D)   (None, 28, 28, 128)  147584      ['conv3_block1_1_relu[0][0]']    \n",
            "                                                                                                  \n",
            " conv3_block1_2_bn (BatchNormal  (None, 28, 28, 128)  512        ['conv3_block1_2_conv[0][0]']    \n",
            " ization)                                                                                         \n",
            "                                                                                                  \n",
            " conv3_block1_2_relu (Activatio  (None, 28, 28, 128)  0          ['conv3_block1_2_bn[0][0]']      \n",
            " n)                                                                                               \n",
            "                                                                                                  \n",
            " conv3_block1_0_conv (Conv2D)   (None, 28, 28, 512)  131584      ['conv2_block3_out[0][0]']       \n",
            "                                                                                                  \n",
            " conv3_block1_3_conv (Conv2D)   (None, 28, 28, 512)  66048       ['conv3_block1_2_relu[0][0]']    \n",
            "                                                                                                  \n",
            " conv3_block1_0_bn (BatchNormal  (None, 28, 28, 512)  2048       ['conv3_block1_0_conv[0][0]']    \n",
            " ization)                                                                                         \n",
            "                                                                                                  \n",
            " conv3_block1_3_bn (BatchNormal  (None, 28, 28, 512)  2048       ['conv3_block1_3_conv[0][0]']    \n",
            " ization)                                                                                         \n",
            "                                                                                                  \n",
            " conv3_block1_add (Add)         (None, 28, 28, 512)  0           ['conv3_block1_0_bn[0][0]',      \n",
            "                                                                  'conv3_block1_3_bn[0][0]']      \n",
            "                                                                                                  \n",
            " conv3_block1_out (Activation)  (None, 28, 28, 512)  0           ['conv3_block1_add[0][0]']       \n",
            "                                                                                                  \n",
            " conv3_block2_1_conv (Conv2D)   (None, 28, 28, 128)  65664       ['conv3_block1_out[0][0]']       \n",
            "                                                                                                  \n",
            " conv3_block2_1_bn (BatchNormal  (None, 28, 28, 128)  512        ['conv3_block2_1_conv[0][0]']    \n",
            " ization)                                                                                         \n",
            "                                                                                                  \n",
            " conv3_block2_1_relu (Activatio  (None, 28, 28, 128)  0          ['conv3_block2_1_bn[0][0]']      \n",
            " n)                                                                                               \n",
            "                                                                                                  \n",
            " conv3_block2_2_conv (Conv2D)   (None, 28, 28, 128)  147584      ['conv3_block2_1_relu[0][0]']    \n",
            "                                                                                                  \n",
            " conv3_block2_2_bn (BatchNormal  (None, 28, 28, 128)  512        ['conv3_block2_2_conv[0][0]']    \n",
            " ization)                                                                                         \n",
            "                                                                                                  \n",
            " conv3_block2_2_relu (Activatio  (None, 28, 28, 128)  0          ['conv3_block2_2_bn[0][0]']      \n",
            " n)                                                                                               \n",
            "                                                                                                  \n",
            " conv3_block2_3_conv (Conv2D)   (None, 28, 28, 512)  66048       ['conv3_block2_2_relu[0][0]']    \n",
            "                                                                                                  \n",
            " conv3_block2_3_bn (BatchNormal  (None, 28, 28, 512)  2048       ['conv3_block2_3_conv[0][0]']    \n",
            " ization)                                                                                         \n",
            "                                                                                                  \n",
            " conv3_block2_add (Add)         (None, 28, 28, 512)  0           ['conv3_block1_out[0][0]',       \n",
            "                                                                  'conv3_block2_3_bn[0][0]']      \n",
            "                                                                                                  \n",
            " conv3_block2_out (Activation)  (None, 28, 28, 512)  0           ['conv3_block2_add[0][0]']       \n",
            "                                                                                                  \n",
            " conv3_block3_1_conv (Conv2D)   (None, 28, 28, 128)  65664       ['conv3_block2_out[0][0]']       \n",
            "                                                                                                  \n",
            " conv3_block3_1_bn (BatchNormal  (None, 28, 28, 128)  512        ['conv3_block3_1_conv[0][0]']    \n",
            " ization)                                                                                         \n",
            "                                                                                                  \n",
            " conv3_block3_1_relu (Activatio  (None, 28, 28, 128)  0          ['conv3_block3_1_bn[0][0]']      \n",
            " n)                                                                                               \n",
            "                                                                                                  \n",
            " conv3_block3_2_conv (Conv2D)   (None, 28, 28, 128)  147584      ['conv3_block3_1_relu[0][0]']    \n",
            "                                                                                                  \n",
            " conv3_block3_2_bn (BatchNormal  (None, 28, 28, 128)  512        ['conv3_block3_2_conv[0][0]']    \n",
            " ization)                                                                                         \n",
            "                                                                                                  \n",
            " conv3_block3_2_relu (Activatio  (None, 28, 28, 128)  0          ['conv3_block3_2_bn[0][0]']      \n",
            " n)                                                                                               \n",
            "                                                                                                  \n",
            " conv3_block3_3_conv (Conv2D)   (None, 28, 28, 512)  66048       ['conv3_block3_2_relu[0][0]']    \n",
            "                                                                                                  \n",
            " conv3_block3_3_bn (BatchNormal  (None, 28, 28, 512)  2048       ['conv3_block3_3_conv[0][0]']    \n",
            " ization)                                                                                         \n",
            "                                                                                                  \n",
            " conv3_block3_add (Add)         (None, 28, 28, 512)  0           ['conv3_block2_out[0][0]',       \n",
            "                                                                  'conv3_block3_3_bn[0][0]']      \n",
            "                                                                                                  \n",
            " conv3_block3_out (Activation)  (None, 28, 28, 512)  0           ['conv3_block3_add[0][0]']       \n",
            "                                                                                                  \n",
            " conv3_block4_1_conv (Conv2D)   (None, 28, 28, 128)  65664       ['conv3_block3_out[0][0]']       \n",
            "                                                                                                  \n",
            " conv3_block4_1_bn (BatchNormal  (None, 28, 28, 128)  512        ['conv3_block4_1_conv[0][0]']    \n",
            " ization)                                                                                         \n",
            "                                                                                                  \n",
            " conv3_block4_1_relu (Activatio  (None, 28, 28, 128)  0          ['conv3_block4_1_bn[0][0]']      \n",
            " n)                                                                                               \n",
            "                                                                                                  \n",
            " conv3_block4_2_conv (Conv2D)   (None, 28, 28, 128)  147584      ['conv3_block4_1_relu[0][0]']    \n",
            "                                                                                                  \n",
            " conv3_block4_2_bn (BatchNormal  (None, 28, 28, 128)  512        ['conv3_block4_2_conv[0][0]']    \n",
            " ization)                                                                                         \n",
            "                                                                                                  \n",
            " conv3_block4_2_relu (Activatio  (None, 28, 28, 128)  0          ['conv3_block4_2_bn[0][0]']      \n",
            " n)                                                                                               \n",
            "                                                                                                  \n",
            " conv3_block4_3_conv (Conv2D)   (None, 28, 28, 512)  66048       ['conv3_block4_2_relu[0][0]']    \n",
            "                                                                                                  \n",
            " conv3_block4_3_bn (BatchNormal  (None, 28, 28, 512)  2048       ['conv3_block4_3_conv[0][0]']    \n",
            " ization)                                                                                         \n",
            "                                                                                                  \n",
            " conv3_block4_add (Add)         (None, 28, 28, 512)  0           ['conv3_block3_out[0][0]',       \n",
            "                                                                  'conv3_block4_3_bn[0][0]']      \n",
            "                                                                                                  \n",
            " conv3_block4_out (Activation)  (None, 28, 28, 512)  0           ['conv3_block4_add[0][0]']       \n",
            "                                                                                                  \n",
            " conv4_block1_1_conv (Conv2D)   (None, 14, 14, 256)  131328      ['conv3_block4_out[0][0]']       \n",
            "                                                                                                  \n",
            " conv4_block1_1_bn (BatchNormal  (None, 14, 14, 256)  1024       ['conv4_block1_1_conv[0][0]']    \n",
            " ization)                                                                                         \n",
            "                                                                                                  \n",
            " conv4_block1_1_relu (Activatio  (None, 14, 14, 256)  0          ['conv4_block1_1_bn[0][0]']      \n",
            " n)                                                                                               \n",
            "                                                                                                  \n",
            " conv4_block1_2_conv (Conv2D)   (None, 14, 14, 256)  590080      ['conv4_block1_1_relu[0][0]']    \n",
            "                                                                                                  \n",
            " conv4_block1_2_bn (BatchNormal  (None, 14, 14, 256)  1024       ['conv4_block1_2_conv[0][0]']    \n",
            " ization)                                                                                         \n",
            "                                                                                                  \n",
            " conv4_block1_2_relu (Activatio  (None, 14, 14, 256)  0          ['conv4_block1_2_bn[0][0]']      \n",
            " n)                                                                                               \n",
            "                                                                                                  \n",
            " conv4_block1_0_conv (Conv2D)   (None, 14, 14, 1024  525312      ['conv3_block4_out[0][0]']       \n",
            "                                )                                                                 \n",
            "                                                                                                  \n",
            " conv4_block1_3_conv (Conv2D)   (None, 14, 14, 1024  263168      ['conv4_block1_2_relu[0][0]']    \n",
            "                                )                                                                 \n",
            "                                                                                                  \n",
            " conv4_block1_0_bn (BatchNormal  (None, 14, 14, 1024  4096       ['conv4_block1_0_conv[0][0]']    \n",
            " ization)                       )                                                                 \n",
            "                                                                                                  \n",
            " conv4_block1_3_bn (BatchNormal  (None, 14, 14, 1024  4096       ['conv4_block1_3_conv[0][0]']    \n",
            " ization)                       )                                                                 \n",
            "                                                                                                  \n",
            " conv4_block1_add (Add)         (None, 14, 14, 1024  0           ['conv4_block1_0_bn[0][0]',      \n",
            "                                )                                 'conv4_block1_3_bn[0][0]']      \n",
            "                                                                                                  \n",
            " conv4_block1_out (Activation)  (None, 14, 14, 1024  0           ['conv4_block1_add[0][0]']       \n",
            "                                )                                                                 \n",
            "                                                                                                  \n",
            " conv4_block2_1_conv (Conv2D)   (None, 14, 14, 256)  262400      ['conv4_block1_out[0][0]']       \n",
            "                                                                                                  \n",
            " conv4_block2_1_bn (BatchNormal  (None, 14, 14, 256)  1024       ['conv4_block2_1_conv[0][0]']    \n",
            " ization)                                                                                         \n",
            "                                                                                                  \n",
            " conv4_block2_1_relu (Activatio  (None, 14, 14, 256)  0          ['conv4_block2_1_bn[0][0]']      \n",
            " n)                                                                                               \n",
            "                                                                                                  \n",
            " conv4_block2_2_conv (Conv2D)   (None, 14, 14, 256)  590080      ['conv4_block2_1_relu[0][0]']    \n",
            "                                                                                                  \n",
            " conv4_block2_2_bn (BatchNormal  (None, 14, 14, 256)  1024       ['conv4_block2_2_conv[0][0]']    \n",
            " ization)                                                                                         \n",
            "                                                                                                  \n",
            " conv4_block2_2_relu (Activatio  (None, 14, 14, 256)  0          ['conv4_block2_2_bn[0][0]']      \n",
            " n)                                                                                               \n",
            "                                                                                                  \n",
            " conv4_block2_3_conv (Conv2D)   (None, 14, 14, 1024  263168      ['conv4_block2_2_relu[0][0]']    \n",
            "                                )                                                                 \n",
            "                                                                                                  \n",
            " conv4_block2_3_bn (BatchNormal  (None, 14, 14, 1024  4096       ['conv4_block2_3_conv[0][0]']    \n",
            " ization)                       )                                                                 \n",
            "                                                                                                  \n",
            " conv4_block2_add (Add)         (None, 14, 14, 1024  0           ['conv4_block1_out[0][0]',       \n",
            "                                )                                 'conv4_block2_3_bn[0][0]']      \n",
            "                                                                                                  \n",
            " conv4_block2_out (Activation)  (None, 14, 14, 1024  0           ['conv4_block2_add[0][0]']       \n",
            "                                )                                                                 \n",
            "                                                                                                  \n",
            " conv4_block3_1_conv (Conv2D)   (None, 14, 14, 256)  262400      ['conv4_block2_out[0][0]']       \n",
            "                                                                                                  \n",
            " conv4_block3_1_bn (BatchNormal  (None, 14, 14, 256)  1024       ['conv4_block3_1_conv[0][0]']    \n",
            " ization)                                                                                         \n",
            "                                                                                                  \n",
            " conv4_block3_1_relu (Activatio  (None, 14, 14, 256)  0          ['conv4_block3_1_bn[0][0]']      \n",
            " n)                                                                                               \n",
            "                                                                                                  \n",
            " conv4_block3_2_conv (Conv2D)   (None, 14, 14, 256)  590080      ['conv4_block3_1_relu[0][0]']    \n",
            "                                                                                                  \n",
            " conv4_block3_2_bn (BatchNormal  (None, 14, 14, 256)  1024       ['conv4_block3_2_conv[0][0]']    \n",
            " ization)                                                                                         \n",
            "                                                                                                  \n",
            " conv4_block3_2_relu (Activatio  (None, 14, 14, 256)  0          ['conv4_block3_2_bn[0][0]']      \n",
            " n)                                                                                               \n",
            "                                                                                                  \n",
            " conv4_block3_3_conv (Conv2D)   (None, 14, 14, 1024  263168      ['conv4_block3_2_relu[0][0]']    \n",
            "                                )                                                                 \n",
            "                                                                                                  \n",
            " conv4_block3_3_bn (BatchNormal  (None, 14, 14, 1024  4096       ['conv4_block3_3_conv[0][0]']    \n",
            " ization)                       )                                                                 \n",
            "                                                                                                  \n",
            " conv4_block3_add (Add)         (None, 14, 14, 1024  0           ['conv4_block2_out[0][0]',       \n",
            "                                )                                 'conv4_block3_3_bn[0][0]']      \n",
            "                                                                                                  \n",
            " conv4_block3_out (Activation)  (None, 14, 14, 1024  0           ['conv4_block3_add[0][0]']       \n",
            "                                )                                                                 \n",
            "                                                                                                  \n",
            " conv4_block4_1_conv (Conv2D)   (None, 14, 14, 256)  262400      ['conv4_block3_out[0][0]']       \n",
            "                                                                                                  \n",
            " conv4_block4_1_bn (BatchNormal  (None, 14, 14, 256)  1024       ['conv4_block4_1_conv[0][0]']    \n",
            " ization)                                                                                         \n",
            "                                                                                                  \n",
            " conv4_block4_1_relu (Activatio  (None, 14, 14, 256)  0          ['conv4_block4_1_bn[0][0]']      \n",
            " n)                                                                                               \n",
            "                                                                                                  \n",
            " conv4_block4_2_conv (Conv2D)   (None, 14, 14, 256)  590080      ['conv4_block4_1_relu[0][0]']    \n",
            "                                                                                                  \n",
            " conv4_block4_2_bn (BatchNormal  (None, 14, 14, 256)  1024       ['conv4_block4_2_conv[0][0]']    \n",
            " ization)                                                                                         \n",
            "                                                                                                  \n",
            " conv4_block4_2_relu (Activatio  (None, 14, 14, 256)  0          ['conv4_block4_2_bn[0][0]']      \n",
            " n)                                                                                               \n",
            "                                                                                                  \n",
            " conv4_block4_3_conv (Conv2D)   (None, 14, 14, 1024  263168      ['conv4_block4_2_relu[0][0]']    \n",
            "                                )                                                                 \n",
            "                                                                                                  \n",
            " conv4_block4_3_bn (BatchNormal  (None, 14, 14, 1024  4096       ['conv4_block4_3_conv[0][0]']    \n",
            " ization)                       )                                                                 \n",
            "                                                                                                  \n",
            " conv4_block4_add (Add)         (None, 14, 14, 1024  0           ['conv4_block3_out[0][0]',       \n",
            "                                )                                 'conv4_block4_3_bn[0][0]']      \n",
            "                                                                                                  \n",
            " conv4_block4_out (Activation)  (None, 14, 14, 1024  0           ['conv4_block4_add[0][0]']       \n",
            "                                )                                                                 \n",
            "                                                                                                  \n",
            " conv4_block5_1_conv (Conv2D)   (None, 14, 14, 256)  262400      ['conv4_block4_out[0][0]']       \n",
            "                                                                                                  \n",
            " conv4_block5_1_bn (BatchNormal  (None, 14, 14, 256)  1024       ['conv4_block5_1_conv[0][0]']    \n",
            " ization)                                                                                         \n",
            "                                                                                                  \n",
            " conv4_block5_1_relu (Activatio  (None, 14, 14, 256)  0          ['conv4_block5_1_bn[0][0]']      \n",
            " n)                                                                                               \n",
            "                                                                                                  \n",
            " conv4_block5_2_conv (Conv2D)   (None, 14, 14, 256)  590080      ['conv4_block5_1_relu[0][0]']    \n",
            "                                                                                                  \n",
            " conv4_block5_2_bn (BatchNormal  (None, 14, 14, 256)  1024       ['conv4_block5_2_conv[0][0]']    \n",
            " ization)                                                                                         \n",
            "                                                                                                  \n",
            " conv4_block5_2_relu (Activatio  (None, 14, 14, 256)  0          ['conv4_block5_2_bn[0][0]']      \n",
            " n)                                                                                               \n",
            "                                                                                                  \n",
            " conv4_block5_3_conv (Conv2D)   (None, 14, 14, 1024  263168      ['conv4_block5_2_relu[0][0]']    \n",
            "                                )                                                                 \n",
            "                                                                                                  \n",
            " conv4_block5_3_bn (BatchNormal  (None, 14, 14, 1024  4096       ['conv4_block5_3_conv[0][0]']    \n",
            " ization)                       )                                                                 \n",
            "                                                                                                  \n",
            " conv4_block5_add (Add)         (None, 14, 14, 1024  0           ['conv4_block4_out[0][0]',       \n",
            "                                )                                 'conv4_block5_3_bn[0][0]']      \n",
            "                                                                                                  \n",
            " conv4_block5_out (Activation)  (None, 14, 14, 1024  0           ['conv4_block5_add[0][0]']       \n",
            "                                )                                                                 \n",
            "                                                                                                  \n",
            " conv4_block6_1_conv (Conv2D)   (None, 14, 14, 256)  262400      ['conv4_block5_out[0][0]']       \n",
            "                                                                                                  \n",
            " conv4_block6_1_bn (BatchNormal  (None, 14, 14, 256)  1024       ['conv4_block6_1_conv[0][0]']    \n",
            " ization)                                                                                         \n",
            "                                                                                                  \n",
            " conv4_block6_1_relu (Activatio  (None, 14, 14, 256)  0          ['conv4_block6_1_bn[0][0]']      \n",
            " n)                                                                                               \n",
            "                                                                                                  \n",
            " conv4_block6_2_conv (Conv2D)   (None, 14, 14, 256)  590080      ['conv4_block6_1_relu[0][0]']    \n",
            "                                                                                                  \n",
            " conv4_block6_2_bn (BatchNormal  (None, 14, 14, 256)  1024       ['conv4_block6_2_conv[0][0]']    \n",
            " ization)                                                                                         \n",
            "                                                                                                  \n",
            " conv4_block6_2_relu (Activatio  (None, 14, 14, 256)  0          ['conv4_block6_2_bn[0][0]']      \n",
            " n)                                                                                               \n",
            "                                                                                                  \n",
            " conv4_block6_3_conv (Conv2D)   (None, 14, 14, 1024  263168      ['conv4_block6_2_relu[0][0]']    \n",
            "                                )                                                                 \n",
            "                                                                                                  \n",
            " conv4_block6_3_bn (BatchNormal  (None, 14, 14, 1024  4096       ['conv4_block6_3_conv[0][0]']    \n",
            " ization)                       )                                                                 \n",
            "                                                                                                  \n",
            " conv4_block6_add (Add)         (None, 14, 14, 1024  0           ['conv4_block5_out[0][0]',       \n",
            "                                )                                 'conv4_block6_3_bn[0][0]']      \n",
            "                                                                                                  \n",
            " conv4_block6_out (Activation)  (None, 14, 14, 1024  0           ['conv4_block6_add[0][0]']       \n",
            "                                )                                                                 \n",
            "                                                                                                  \n",
            "==================================================================================================\n",
            "Total params: 8,589,184\n",
            "Trainable params: 0\n",
            "Non-trainable params: 8,589,184\n",
            "__________________________________________________________________________________________________\n"
          ]
        }
      ]
    },
    {
      "cell_type": "code",
      "source": [
        "trainable = False\n",
        "for layer in model.get_layer(\"base\").layers:\n",
        "    if layer.name == 'conv4_block6_1_conv':\n",
        "        trainable = True\n",
        "    is_bn = layer.name.endswith('bn')  # keep BatchNorm freezed, good practice for finetuned models\n",
        "    if not is_bn:\n",
        "      layer.trainable = trainable\n"
      ],
      "metadata": {
        "id": "8V7lRw7GDFGD"
      },
      "execution_count": null,
      "outputs": []
    },
    {
      "cell_type": "code",
      "source": [
        "model, history = run_model(model, model.name + \"_Finetuned\", train_ds, val_ds, 50, patience=3, monitor='val_loss')\n",
        "plot_accuracy_and_loss_history(history)"
      ],
      "metadata": {
        "colab": {
          "base_uri": "https://localhost:8080/",
          "height": 1000
        },
        "outputId": "d659ee77-ffe4-4fa4-db50-ff265b0846f4",
        "id": "_76gqpzqDFGD"
      },
      "execution_count": null,
      "outputs": [
        {
          "output_type": "stream",
          "name": "stdout",
          "text": [
            "Epoch 1/50\n",
            "66/66 [==============================] - ETA: 0s - loss: 0.2065 - accuracy: 0.9276\n",
            "Epoch 1: val_loss improved from inf to 0.21701, saving model to model/ResNet50_Cutted_Finetuned.h5\n",
            "66/66 [==============================] - 15s 162ms/step - loss: 0.2065 - accuracy: 0.9276 - val_loss: 0.2170 - val_accuracy: 0.9266\n",
            "Epoch 2/50\n",
            "66/66 [==============================] - ETA: 0s - loss: 0.1979 - accuracy: 0.9283\n",
            "Epoch 2: val_loss improved from 0.21701 to 0.21381, saving model to model/ResNet50_Cutted_Finetuned.h5\n",
            "66/66 [==============================] - 11s 160ms/step - loss: 0.1979 - accuracy: 0.9283 - val_loss: 0.2138 - val_accuracy: 0.9174\n",
            "Epoch 3/50\n",
            "66/66 [==============================] - ETA: 0s - loss: 0.2000 - accuracy: 0.9278\n",
            "Epoch 3: val_loss improved from 0.21381 to 0.19584, saving model to model/ResNet50_Cutted_Finetuned.h5\n",
            "66/66 [==============================] - 11s 163ms/step - loss: 0.2000 - accuracy: 0.9278 - val_loss: 0.1958 - val_accuracy: 0.9302\n",
            "Epoch 4/50\n",
            "66/66 [==============================] - ETA: 0s - loss: 0.1889 - accuracy: 0.9321\n",
            "Epoch 4: val_loss did not improve from 0.19584\n",
            "66/66 [==============================] - 11s 156ms/step - loss: 0.1889 - accuracy: 0.9321 - val_loss: 0.2206 - val_accuracy: 0.9245\n",
            "Epoch 5/50\n",
            "66/66 [==============================] - ETA: 0s - loss: 0.1878 - accuracy: 0.9328\n",
            "Epoch 5: val_loss improved from 0.19584 to 0.19263, saving model to model/ResNet50_Cutted_Finetuned.h5\n",
            "66/66 [==============================] - 11s 162ms/step - loss: 0.1878 - accuracy: 0.9328 - val_loss: 0.1926 - val_accuracy: 0.9323\n",
            "Epoch 6/50\n",
            "66/66 [==============================] - ETA: 0s - loss: 0.1901 - accuracy: 0.9297\n",
            "Epoch 6: val_loss did not improve from 0.19263\n",
            "66/66 [==============================] - 11s 157ms/step - loss: 0.1901 - accuracy: 0.9297 - val_loss: 0.1930 - val_accuracy: 0.9302\n",
            "Epoch 7/50\n",
            "66/66 [==============================] - ETA: 0s - loss: 0.1826 - accuracy: 0.9343\n",
            "Epoch 7: val_loss did not improve from 0.19263\n",
            "66/66 [==============================] - 11s 156ms/step - loss: 0.1826 - accuracy: 0.9343 - val_loss: 0.2003 - val_accuracy: 0.9309\n",
            "Epoch 8/50\n",
            "66/66 [==============================] - ETA: 0s - loss: 0.1685 - accuracy: 0.9378\n",
            "Epoch 8: val_loss improved from 0.19263 to 0.18980, saving model to model/ResNet50_Cutted_Finetuned.h5\n",
            "66/66 [==============================] - 11s 162ms/step - loss: 0.1685 - accuracy: 0.9378 - val_loss: 0.1898 - val_accuracy: 0.9295\n",
            "Epoch 9/50\n",
            "66/66 [==============================] - ETA: 0s - loss: 0.1763 - accuracy: 0.9352\n",
            "Epoch 9: val_loss did not improve from 0.18980\n",
            "66/66 [==============================] - 12s 168ms/step - loss: 0.1763 - accuracy: 0.9352 - val_loss: 0.2079 - val_accuracy: 0.9195\n",
            "Epoch 10/50\n",
            "66/66 [==============================] - ETA: 0s - loss: 0.1706 - accuracy: 0.9392\n",
            "Epoch 10: val_loss did not improve from 0.18980\n",
            "66/66 [==============================] - 11s 156ms/step - loss: 0.1706 - accuracy: 0.9392 - val_loss: 0.2199 - val_accuracy: 0.9231\n",
            "Epoch 11/50\n",
            "66/66 [==============================] - ETA: 0s - loss: 0.1739 - accuracy: 0.9364\n",
            "Epoch 11: val_loss did not improve from 0.18980\n",
            "66/66 [==============================] - 11s 157ms/step - loss: 0.1739 - accuracy: 0.9364 - val_loss: 0.1951 - val_accuracy: 0.9281\n",
            "Saving /content/gdrive/MyDrive/BrainTumorClassifier/Models/ResNet50_Cutted_Finetuned/history.pkl\n",
            "INFO:tensorflow:Assets written to: ram://3f5f309f-2155-4242-a34f-22715ea840f4/assets\n"
          ]
        },
        {
          "output_type": "display_data",
          "data": {
            "text/plain": [
              "<Figure size 432x288 with 1 Axes>"
            ],
            "image/png": "[encoded data removed]"
          },
          "metadata": {
            "needs_background": "light"
          }
        },
        {
          "output_type": "display_data",
          "data": {
            "text/plain": [
              "<Figure size 432x288 with 1 Axes>"
            ],
            "image/png": "[encoded data removed]"
          },
          "metadata": {
            "needs_background": "light"
          }
        }
      ]
    },
    {
      "cell_type": "code",
      "source": [
        "evaluate_model(model, test_ds)"
      ],
      "metadata": {
        "colab": {
          "base_uri": "https://localhost:8080/"
        },
        "outputId": "bcf67e9c-3ed2-4aa7-cc2e-cd73065cfa3c",
        "id": "HKpC3t0YDFGE"
      },
      "execution_count": null,
      "outputs": [
        {
          "output_type": "stream",
          "name": "stdout",
          "text": [
            "22/22 [==============================] - 4s 116ms/step - loss: 0.2038 - accuracy: 0.9225\n",
            "Loss on test set: 0.20377576351165771\n",
            "Accuracy on test set: 0.9224750995635986\n",
            "              precision    recall  f1-score   support\n",
            "\n",
            "      glioma     0.9088    0.9200    0.9144       325\n",
            "  meningioma     0.8616    0.8328    0.8470       329\n",
            "     notumor     0.9564    0.9875    0.9717       400\n",
            "   pituitary     0.9509    0.9347    0.9427       352\n",
            "\n",
            "    accuracy                         0.9225      1406\n",
            "   macro avg     0.9194    0.9187    0.9189      1406\n",
            "weighted avg     0.9218    0.9225    0.9220      1406\n",
            "\n"
          ]
        }
      ]
    },
    {
      "cell_type": "code",
      "source": [
        "plot_confusionmatrix(model, test_ds)"
      ],
      "metadata": {
        "colab": {
          "base_uri": "https://localhost:8080/",
          "height": 627
        },
        "outputId": "88553a61-9d81-47b5-cfec-653da1b99371",
        "id": "jSv487bMDFGE"
      },
      "execution_count": null,
      "outputs": [
        {
          "output_type": "stream",
          "name": "stdout",
          "text": [
            "22/22 [==============================] - 2s 113ms/step\n"
          ]
        },
        {
          "output_type": "display_data",
          "data": {
            "text/plain": [
              "<Figure size 720x720 with 2 Axes>"
            ],
            "image/png": "[encoded data removed]"
          },
          "metadata": {
            "needs_background": "light"
          }
        }
      ]
    }
  ]
}