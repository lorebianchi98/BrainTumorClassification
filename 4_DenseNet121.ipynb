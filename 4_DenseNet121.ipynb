{
  "nbformat": 4,
  "nbformat_minor": 0,
  "metadata": {
    "colab": {
      "name": "4.DenseNet121.ipynb",
      "provenance": [],
      "toc_visible": true,
      "include_colab_link": true
    },
    "kernelspec": {
      "name": "python3",
      "display_name": "Python 3"
    },
    "language_info": {
      "name": "python"
    },
    "accelerator": "GPU"
  },
  "cells": [
    {
      "cell_type": "markdown",
      "metadata": {
        "id": "view-in-github",
        "colab_type": "text"
      },
      "source": [
        "<a href=\"https://colab.research.google.com/github/lorebianchi98/BrainTumorClassification/blob/main/4_DenseNet121.ipynb\" target=\"_parent\"><img src=\"https://colab.research.google.com/assets/colab-badge.svg\" alt=\"Open In Colab\"/></a>"
      ]
    },
    {
      "cell_type": "markdown",
      "source": [
        "# Brain Tumor Classification using DenseNet121\n",
        "In this notebook we are going to perform the classification of the brain tumor using as base CNN DenseNet121."
      ],
      "metadata": {
        "id": "r3M2Y_ftTQ7j"
      }
    },
    {
      "cell_type": "markdown",
      "source": [
        "# Import and Costants"
      ],
      "metadata": {
        "id": "l1ATd77JsQyY"
      }
    },
    {
      "cell_type": "code",
      "source": [
        "import tensorflow as tf\n",
        "from tensorflow import keras\n",
        "from keras import layers\n",
        "from keras import models\n",
        "from tensorflow.keras.models import Sequential\n",
        "import numpy as np\n",
        "import pandas as pd\n",
        "from tensorflow import keras\n",
        "import os\n",
        "import shutil\n",
        "import matplotlib.pyplot as plt\n",
        "from tqdm import tqdm\n",
        "from google.colab import drive"
      ],
      "metadata": {
        "id": "PmOIGAcXsSUk"
      },
      "execution_count": null,
      "outputs": []
    },
    {
      "cell_type": "markdown",
      "source": [
        "# Connection to Google Drive"
      ],
      "metadata": {
        "id": "tvcSz_khiYIR"
      }
    },
    {
      "cell_type": "code",
      "source": [
        "drive.mount('/content/gdrive', force_remount=True)"
      ],
      "metadata": {
        "colab": {
          "base_uri": "https://localhost:8080/"
        },
        "id": "SWrkZz1siY_U",
        "outputId": "e5722e7d-0cfa-4df5-be84-86214e662bca"
      },
      "execution_count": null,
      "outputs": [
        {
          "output_type": "stream",
          "name": "stdout",
          "text": [
            "Mounted at /content/gdrive\n"
          ]
        }
      ]
    },
    {
      "cell_type": "code",
      "source": [
        "% run /content/gdrive/MyDrive/BrainTumorClassifier/utilities.ipynb"
      ],
      "metadata": {
        "id": "tTZdVYQ4sWjL"
      },
      "execution_count": null,
      "outputs": []
    },
    {
      "cell_type": "markdown",
      "source": [
        "We also perform the download and the unzipping of the dataset from the drive folder."
      ],
      "metadata": {
        "id": "M4pwhya_W3Nj"
      }
    },
    {
      "cell_type": "code",
      "source": [
        "!unzip -q '/content/gdrive/MyDrive/BrainTumorClassifier/brain-tumor-mri-splits.zip' -d '/'"
      ],
      "metadata": {
        "id": "8MpTHXtjW_PA"
      },
      "execution_count": null,
      "outputs": []
    },
    {
      "cell_type": "markdown",
      "source": [
        "# Hardware Accelerator test"
      ],
      "metadata": {
        "id": "Q1peprlbhd3O"
      }
    },
    {
      "cell_type": "markdown",
      "source": [
        "First we need to check if the hardware accelaration is enabled, since training a CNN on a CPU could be infeasible."
      ],
      "metadata": {
        "id": "Q6nkuByCSine"
      }
    },
    {
      "cell_type": "code",
      "source": [
        "#check hardware acceleration\n",
        "device_name = tf.test.gpu_device_name()\n",
        "if device_name != '/device:GPU:0':\n",
        "  raise SystemError('GPU device not found')\n",
        "print('Found GPU at: {}'.format(device_name))"
      ],
      "metadata": {
        "colab": {
          "base_uri": "https://localhost:8080/"
        },
        "id": "QAWrdrxOSn6Y",
        "outputId": "5e2abe79-31cd-4e39-c3b7-e464e25ec528"
      },
      "execution_count": null,
      "outputs": [
        {
          "output_type": "stream",
          "name": "stdout",
          "text": [
            "Found GPU at: /device:GPU:0\n"
          ]
        }
      ]
    },
    {
      "cell_type": "markdown",
      "source": [
        "# Dataset loading"
      ],
      "metadata": {
        "id": "gKUZHvmhczLT"
      }
    },
    {
      "cell_type": "markdown",
      "source": [
        "Now we need to create the Dataset objects from the sets directory. We use the [image_dataset_from_directory](https://www.tensorflow.org/api_docs/python/tf/keras/utils/image_dataset_from_directory) function provided by Keras. "
      ],
      "metadata": {
        "id": "8MRY8zlUibs-"
      }
    },
    {
      "cell_type": "code",
      "source": [
        "train_ds, val_ds, test_ds = load_data_splits(IMAGE_SIZE, BATCH_SIZE)"
      ],
      "metadata": {
        "colab": {
          "base_uri": "https://localhost:8080/"
        },
        "id": "01Hu-W8UjrwJ",
        "outputId": "5c7363a5-3d87-422d-9fbc-353cccf473be"
      },
      "execution_count": null,
      "outputs": [
        {
          "output_type": "stream",
          "name": "stdout",
          "text": [
            "Found 4213 files belonging to 4 classes.\n",
            "Found 1404 files belonging to 4 classes.\n",
            "Found 1406 files belonging to 4 classes.\n"
          ]
        }
      ]
    },
    {
      "cell_type": "markdown",
      "source": [
        "# 256 Dense Neurons\n",
        "Initially we are going to train a Multilayer Perceptron Network to classify brain tumor having as input the features extracted by DenseNet121. The last layer of DenseNet121 is removed, since it was a MLP Network built to classify ImageNet Dataset. The VGG16 layers are freezed in this part of training. "
      ],
      "metadata": {
        "id": "0xeOd3wVHcZ5"
      }
    },
    {
      "cell_type": "code",
      "source": [
        "base_cnn = keras.applications.DenseNet121(\n",
        "    weights=\"imagenet\",\n",
        "    include_top=False,\n",
        "    input_shape=(224,224,3)\n",
        ")\n",
        "\n",
        "base_cnn.trainable = False"
      ],
      "metadata": {
        "colab": {
          "base_uri": "https://localhost:8080/"
        },
        "outputId": "16ffef1a-6c74-4b11-c505-24c523a85f0c",
        "id": "idpe9JOjHcZ5"
      },
      "execution_count": null,
      "outputs": [
        {
          "output_type": "stream",
          "name": "stdout",
          "text": [
            "Downloading data from https://storage.googleapis.com/tensorflow/keras-applications/densenet/densenet121_weights_tf_dim_ordering_tf_kernels_notop.h5\n",
            "29089792/29084464 [==============================] - 1s 0us/step\n",
            "29097984/29084464 [==============================] - 1s 0us/step\n"
          ]
        }
      ]
    },
    {
      "cell_type": "code",
      "source": [
        "inputs = keras.Input(shape=(224,224,3))\n",
        "\n",
        "x = data_augmentation_layers(inputs)\n",
        "\n",
        "x = keras.applications.densenet.preprocess_input(x)\n",
        "x = base_cnn(x)\n",
        "\n",
        "x = layers.GlobalAveragePooling2D(name='gap')(x)\n",
        "x = layers.Flatten(name='flatten')(x)\n",
        "x = layers.Dense(256,activation='relu', name='classifier_hidden')(x)\n",
        "x = layers.Dropout(0.5)(x)\n",
        "output = layers.Dense(len(CLASSES), activation='softmax')(x)\n",
        "\n",
        "model = tf.keras.models.Model(inputs, outputs=output, name=\"DenseNet121\")\n",
        "\n",
        "model = compile_model(model, loss=\"sparse_categorical_crossentropy\")\n",
        "model.summary()"
      ],
      "metadata": {
        "colab": {
          "base_uri": "https://localhost:8080/"
        },
        "outputId": "7f50edd6-ca63-4d3e-e81f-0a76ff6d8a63",
        "id": "ukKUcyosHcZ5"
      },
      "execution_count": null,
      "outputs": [
        {
          "output_type": "stream",
          "name": "stdout",
          "text": [
            "Model: \"DenseNet121\"\n",
            "_________________________________________________________________\n",
            " Layer (type)                Output Shape              Param #   \n",
            "=================================================================\n",
            " input_3 (InputLayer)        [(None, 224, 224, 3)]     0         \n",
            "                                                                 \n",
            " sequential (Sequential)     (None, 224, 224, 3)       0         \n",
            "                                                                 \n",
            " tf.math.truediv_2 (TFOpLamb  (None, 224, 224, 3)      0         \n",
            " da)                                                             \n",
            "                                                                 \n",
            " tf.nn.bias_add_1 (TFOpLambd  (None, 224, 224, 3)      0         \n",
            " a)                                                              \n",
            "                                                                 \n",
            " tf.math.truediv_3 (TFOpLamb  (None, 224, 224, 3)      0         \n",
            " da)                                                             \n",
            "                                                                 \n",
            " densenet121 (Functional)    (None, 7, 7, 1024)        7037504   \n",
            "                                                                 \n",
            " gap (GlobalAveragePooling2D  (None, 1024)             0         \n",
            " )                                                               \n",
            "                                                                 \n",
            " flatten (Flatten)           (None, 1024)              0         \n",
            "                                                                 \n",
            " classifier_hidden (Dense)   (None, 256)               262400    \n",
            "                                                                 \n",
            " dropout_1 (Dropout)         (None, 256)               0         \n",
            "                                                                 \n",
            " dense_1 (Dense)             (None, 4)                 1028      \n",
            "                                                                 \n",
            "=================================================================\n",
            "Total params: 7,300,932\n",
            "Trainable params: 263,428\n",
            "Non-trainable params: 7,037,504\n",
            "_________________________________________________________________\n"
          ]
        }
      ]
    },
    {
      "cell_type": "code",
      "source": [
        "model, history = run_model(model, model.name, train_ds, val_ds, 50, patience=3, monitor='val_loss')\n",
        "plot_accuracy_and_loss_history(history)"
      ],
      "metadata": {
        "colab": {
          "base_uri": "https://localhost:8080/",
          "height": 1000
        },
        "outputId": "6d41c789-1ed0-4f3f-bb91-b9e7565d8b68",
        "id": "a-FYYLGRHcZ6"
      },
      "execution_count": null,
      "outputs": [
        {
          "output_type": "stream",
          "name": "stdout",
          "text": [
            "Epoch 1/50\n",
            "66/66 [==============================] - ETA: 0s - loss: 0.8927 - accuracy: 0.6580\n",
            "Epoch 1: val_loss improved from inf to 0.47880, saving model to model/DenseNet121.h5\n",
            "66/66 [==============================] - 29s 215ms/step - loss: 0.8927 - accuracy: 0.6580 - val_loss: 0.4788 - val_accuracy: 0.8369\n",
            "Epoch 2/50\n",
            "66/66 [==============================] - ETA: 0s - loss: 0.4958 - accuracy: 0.8125\n",
            "Epoch 2: val_loss improved from 0.47880 to 0.38313, saving model to model/DenseNet121.h5\n",
            "66/66 [==============================] - 12s 173ms/step - loss: 0.4958 - accuracy: 0.8125 - val_loss: 0.3831 - val_accuracy: 0.8632\n",
            "Epoch 3/50\n",
            "66/66 [==============================] - ETA: 0s - loss: 0.4119 - accuracy: 0.8460\n",
            "Epoch 3: val_loss improved from 0.38313 to 0.36394, saving model to model/DenseNet121.h5\n",
            "66/66 [==============================] - 12s 173ms/step - loss: 0.4119 - accuracy: 0.8460 - val_loss: 0.3639 - val_accuracy: 0.8689\n",
            "Epoch 4/50\n",
            "66/66 [==============================] - ETA: 0s - loss: 0.3629 - accuracy: 0.8638\n",
            "Epoch 4: val_loss improved from 0.36394 to 0.33286, saving model to model/DenseNet121.h5\n",
            "66/66 [==============================] - 12s 176ms/step - loss: 0.3629 - accuracy: 0.8638 - val_loss: 0.3329 - val_accuracy: 0.8746\n",
            "Epoch 5/50\n",
            "66/66 [==============================] - ETA: 0s - loss: 0.3439 - accuracy: 0.8695\n",
            "Epoch 5: val_loss improved from 0.33286 to 0.30691, saving model to model/DenseNet121.h5\n",
            "66/66 [==============================] - 12s 173ms/step - loss: 0.3439 - accuracy: 0.8695 - val_loss: 0.3069 - val_accuracy: 0.8796\n",
            "Epoch 6/50\n",
            "66/66 [==============================] - ETA: 0s - loss: 0.3000 - accuracy: 0.8868\n",
            "Epoch 6: val_loss improved from 0.30691 to 0.30668, saving model to model/DenseNet121.h5\n",
            "66/66 [==============================] - 12s 179ms/step - loss: 0.3000 - accuracy: 0.8868 - val_loss: 0.3067 - val_accuracy: 0.8868\n",
            "Epoch 7/50\n",
            "66/66 [==============================] - ETA: 0s - loss: 0.2852 - accuracy: 0.8941\n",
            "Epoch 7: val_loss improved from 0.30668 to 0.30057, saving model to model/DenseNet121.h5\n",
            "66/66 [==============================] - 12s 175ms/step - loss: 0.2852 - accuracy: 0.8941 - val_loss: 0.3006 - val_accuracy: 0.8846\n",
            "Epoch 8/50\n",
            "66/66 [==============================] - ETA: 0s - loss: 0.2625 - accuracy: 0.9048\n",
            "Epoch 8: val_loss improved from 0.30057 to 0.28104, saving model to model/DenseNet121.h5\n",
            "66/66 [==============================] - 12s 173ms/step - loss: 0.2625 - accuracy: 0.9048 - val_loss: 0.2810 - val_accuracy: 0.9024\n",
            "Epoch 9/50\n",
            "66/66 [==============================] - ETA: 0s - loss: 0.2439 - accuracy: 0.9119\n",
            "Epoch 9: val_loss improved from 0.28104 to 0.26799, saving model to model/DenseNet121.h5\n",
            "66/66 [==============================] - 12s 173ms/step - loss: 0.2439 - accuracy: 0.9119 - val_loss: 0.2680 - val_accuracy: 0.8960\n",
            "Epoch 10/50\n",
            "66/66 [==============================] - ETA: 0s - loss: 0.2325 - accuracy: 0.9129\n",
            "Epoch 10: val_loss improved from 0.26799 to 0.25456, saving model to model/DenseNet121.h5\n",
            "66/66 [==============================] - 12s 174ms/step - loss: 0.2325 - accuracy: 0.9129 - val_loss: 0.2546 - val_accuracy: 0.9038\n",
            "Epoch 11/50\n",
            "66/66 [==============================] - ETA: 0s - loss: 0.2158 - accuracy: 0.9219\n",
            "Epoch 11: val_loss improved from 0.25456 to 0.24058, saving model to model/DenseNet121.h5\n",
            "66/66 [==============================] - 12s 173ms/step - loss: 0.2158 - accuracy: 0.9219 - val_loss: 0.2406 - val_accuracy: 0.9074\n",
            "Epoch 12/50\n",
            "66/66 [==============================] - ETA: 0s - loss: 0.2062 - accuracy: 0.9226\n",
            "Epoch 12: val_loss did not improve from 0.24058\n",
            "66/66 [==============================] - 11s 164ms/step - loss: 0.2062 - accuracy: 0.9226 - val_loss: 0.2418 - val_accuracy: 0.9145\n",
            "Epoch 13/50\n",
            "66/66 [==============================] - ETA: 0s - loss: 0.1905 - accuracy: 0.9290\n",
            "Epoch 13: val_loss improved from 0.24058 to 0.22750, saving model to model/DenseNet121.h5\n",
            "66/66 [==============================] - 12s 173ms/step - loss: 0.1905 - accuracy: 0.9290 - val_loss: 0.2275 - val_accuracy: 0.9117\n",
            "Epoch 14/50\n",
            "66/66 [==============================] - ETA: 0s - loss: 0.1915 - accuracy: 0.9281\n",
            "Epoch 14: val_loss did not improve from 0.22750\n",
            "66/66 [==============================] - 11s 165ms/step - loss: 0.1915 - accuracy: 0.9281 - val_loss: 0.2524 - val_accuracy: 0.9003\n",
            "Epoch 15/50\n",
            "66/66 [==============================] - ETA: 0s - loss: 0.1983 - accuracy: 0.9248\n",
            "Epoch 15: val_loss did not improve from 0.22750\n",
            "66/66 [==============================] - 11s 164ms/step - loss: 0.1983 - accuracy: 0.9248 - val_loss: 0.2326 - val_accuracy: 0.9081\n",
            "Epoch 16/50\n",
            "66/66 [==============================] - ETA: 0s - loss: 0.1694 - accuracy: 0.9350\n",
            "Epoch 16: val_loss improved from 0.22750 to 0.21364, saving model to model/DenseNet121.h5\n",
            "66/66 [==============================] - 12s 173ms/step - loss: 0.1694 - accuracy: 0.9350 - val_loss: 0.2136 - val_accuracy: 0.9224\n",
            "Epoch 17/50\n",
            "66/66 [==============================] - ETA: 0s - loss: 0.1678 - accuracy: 0.9397\n",
            "Epoch 17: val_loss did not improve from 0.21364\n",
            "66/66 [==============================] - 11s 164ms/step - loss: 0.1678 - accuracy: 0.9397 - val_loss: 0.2358 - val_accuracy: 0.9103\n",
            "Epoch 18/50\n",
            "66/66 [==============================] - ETA: 0s - loss: 0.1625 - accuracy: 0.9385\n",
            "Epoch 18: val_loss improved from 0.21364 to 0.21165, saving model to model/DenseNet121.h5\n",
            "66/66 [==============================] - 12s 174ms/step - loss: 0.1625 - accuracy: 0.9385 - val_loss: 0.2117 - val_accuracy: 0.9259\n",
            "Epoch 19/50\n",
            "66/66 [==============================] - ETA: 0s - loss: 0.1462 - accuracy: 0.9456\n",
            "Epoch 19: val_loss improved from 0.21165 to 0.20731, saving model to model/DenseNet121.h5\n",
            "66/66 [==============================] - 12s 174ms/step - loss: 0.1462 - accuracy: 0.9456 - val_loss: 0.2073 - val_accuracy: 0.9281\n",
            "Epoch 20/50\n",
            "66/66 [==============================] - ETA: 0s - loss: 0.1454 - accuracy: 0.9464\n",
            "Epoch 20: val_loss did not improve from 0.20731\n",
            "66/66 [==============================] - 11s 164ms/step - loss: 0.1454 - accuracy: 0.9464 - val_loss: 0.2076 - val_accuracy: 0.9245\n",
            "Epoch 21/50\n",
            "66/66 [==============================] - ETA: 0s - loss: 0.1359 - accuracy: 0.9530\n",
            "Epoch 21: val_loss did not improve from 0.20731\n",
            "66/66 [==============================] - 11s 165ms/step - loss: 0.1359 - accuracy: 0.9530 - val_loss: 0.2186 - val_accuracy: 0.9231\n",
            "Epoch 22/50\n",
            "66/66 [==============================] - ETA: 0s - loss: 0.1398 - accuracy: 0.9499\n",
            "Epoch 22: val_loss improved from 0.20731 to 0.19936, saving model to model/DenseNet121.h5\n",
            "66/66 [==============================] - 12s 172ms/step - loss: 0.1398 - accuracy: 0.9499 - val_loss: 0.1994 - val_accuracy: 0.9309\n",
            "Epoch 23/50\n",
            "66/66 [==============================] - ETA: 0s - loss: 0.1232 - accuracy: 0.9563\n",
            "Epoch 23: val_loss improved from 0.19936 to 0.19307, saving model to model/DenseNet121.h5\n",
            "66/66 [==============================] - 12s 175ms/step - loss: 0.1232 - accuracy: 0.9563 - val_loss: 0.1931 - val_accuracy: 0.9352\n",
            "Epoch 24/50\n",
            "66/66 [==============================] - ETA: 0s - loss: 0.1262 - accuracy: 0.9551\n",
            "Epoch 24: val_loss improved from 0.19307 to 0.19179, saving model to model/DenseNet121.h5\n",
            "66/66 [==============================] - 12s 181ms/step - loss: 0.1262 - accuracy: 0.9551 - val_loss: 0.1918 - val_accuracy: 0.9259\n",
            "Epoch 25/50\n",
            "66/66 [==============================] - ETA: 0s - loss: 0.1266 - accuracy: 0.9554\n",
            "Epoch 25: val_loss did not improve from 0.19179\n",
            "66/66 [==============================] - 11s 165ms/step - loss: 0.1266 - accuracy: 0.9554 - val_loss: 0.2013 - val_accuracy: 0.9224\n",
            "Epoch 26/50\n",
            "66/66 [==============================] - ETA: 0s - loss: 0.1111 - accuracy: 0.9634\n",
            "Epoch 26: val_loss improved from 0.19179 to 0.18865, saving model to model/DenseNet121.h5\n",
            "66/66 [==============================] - 12s 173ms/step - loss: 0.1111 - accuracy: 0.9634 - val_loss: 0.1887 - val_accuracy: 0.9352\n",
            "Epoch 27/50\n",
            "66/66 [==============================] - ETA: 0s - loss: 0.1125 - accuracy: 0.9611\n",
            "Epoch 27: val_loss improved from 0.18865 to 0.18547, saving model to model/DenseNet121.h5\n",
            "66/66 [==============================] - 12s 173ms/step - loss: 0.1125 - accuracy: 0.9611 - val_loss: 0.1855 - val_accuracy: 0.9323\n",
            "Epoch 28/50\n",
            "66/66 [==============================] - ETA: 0s - loss: 0.1003 - accuracy: 0.9627\n",
            "Epoch 28: val_loss did not improve from 0.18547\n",
            "66/66 [==============================] - 11s 165ms/step - loss: 0.1003 - accuracy: 0.9627 - val_loss: 0.2026 - val_accuracy: 0.9352\n",
            "Epoch 29/50\n",
            "66/66 [==============================] - ETA: 0s - loss: 0.1050 - accuracy: 0.9625\n",
            "Epoch 29: val_loss did not improve from 0.18547\n",
            "66/66 [==============================] - 11s 165ms/step - loss: 0.1050 - accuracy: 0.9625 - val_loss: 0.1876 - val_accuracy: 0.9373\n",
            "Epoch 30/50\n",
            "66/66 [==============================] - ETA: 0s - loss: 0.1011 - accuracy: 0.9675\n",
            "Epoch 30: val_loss improved from 0.18547 to 0.18161, saving model to model/DenseNet121.h5\n",
            "66/66 [==============================] - 12s 174ms/step - loss: 0.1011 - accuracy: 0.9675 - val_loss: 0.1816 - val_accuracy: 0.9416\n",
            "Epoch 31/50\n",
            "66/66 [==============================] - ETA: 0s - loss: 0.0939 - accuracy: 0.9687\n",
            "Epoch 31: val_loss did not improve from 0.18161\n",
            "66/66 [==============================] - 11s 165ms/step - loss: 0.0939 - accuracy: 0.9687 - val_loss: 0.1905 - val_accuracy: 0.9430\n",
            "Epoch 32/50\n",
            "66/66 [==============================] - ETA: 0s - loss: 0.0855 - accuracy: 0.9694\n",
            "Epoch 32: val_loss did not improve from 0.18161\n",
            "66/66 [==============================] - 11s 165ms/step - loss: 0.0855 - accuracy: 0.9694 - val_loss: 0.2003 - val_accuracy: 0.9409\n",
            "Epoch 33/50\n",
            "66/66 [==============================] - ETA: 0s - loss: 0.0908 - accuracy: 0.9675\n",
            "Epoch 33: val_loss improved from 0.18161 to 0.17789, saving model to model/DenseNet121.h5\n",
            "66/66 [==============================] - 12s 174ms/step - loss: 0.0908 - accuracy: 0.9675 - val_loss: 0.1779 - val_accuracy: 0.9380\n",
            "Epoch 34/50\n",
            "66/66 [==============================] - ETA: 0s - loss: 0.0817 - accuracy: 0.9713\n",
            "Epoch 34: val_loss did not improve from 0.17789\n",
            "66/66 [==============================] - 12s 171ms/step - loss: 0.0817 - accuracy: 0.9713 - val_loss: 0.1881 - val_accuracy: 0.9387\n",
            "Epoch 35/50\n",
            "66/66 [==============================] - ETA: 0s - loss: 0.0915 - accuracy: 0.9651\n",
            "Epoch 35: val_loss improved from 0.17789 to 0.17515, saving model to model/DenseNet121.h5\n",
            "66/66 [==============================] - 12s 173ms/step - loss: 0.0915 - accuracy: 0.9651 - val_loss: 0.1751 - val_accuracy: 0.9395\n",
            "Epoch 36/50\n",
            "66/66 [==============================] - ETA: 0s - loss: 0.0834 - accuracy: 0.9703\n",
            "Epoch 36: val_loss did not improve from 0.17515\n",
            "66/66 [==============================] - 11s 165ms/step - loss: 0.0834 - accuracy: 0.9703 - val_loss: 0.1847 - val_accuracy: 0.9409\n",
            "Epoch 37/50\n",
            "66/66 [==============================] - ETA: 0s - loss: 0.0847 - accuracy: 0.9694\n",
            "Epoch 37: val_loss did not improve from 0.17515\n",
            "66/66 [==============================] - 11s 165ms/step - loss: 0.0847 - accuracy: 0.9694 - val_loss: 0.1792 - val_accuracy: 0.9480\n",
            "Epoch 38/50\n",
            "66/66 [==============================] - ETA: 0s - loss: 0.0805 - accuracy: 0.9737\n",
            "Epoch 38: val_loss did not improve from 0.17515\n",
            "66/66 [==============================] - 11s 165ms/step - loss: 0.0805 - accuracy: 0.9737 - val_loss: 0.1888 - val_accuracy: 0.9373\n",
            "Saving /content/gdrive/MyDrive/BrainTumorClassifier/Models/DenseNet121/history.pkl\n",
            "INFO:tensorflow:Assets written to: ram://abe54f65-4c7b-4fcb-a527-1e2adffb9cb9/assets\n"
          ]
        },
        {
          "output_type": "display_data",
          "data": {
            "text/plain": [
              "<Figure size 432x288 with 1 Axes>"
            ],
            "image/png": "[encoded data removed]"
          },
          "metadata": {
            "needs_background": "light"
          }
        },
        {
          "output_type": "display_data",
          "data": {
            "text/plain": [
              "<Figure size 432x288 with 1 Axes>"
            ],
            "image/png": "[encoded data removed]"
          },
          "metadata": {
            "needs_background": "light"
          }
        }
      ]
    },
    {
      "cell_type": "code",
      "source": [
        "evaluate_model(model, test_ds)"
      ],
      "metadata": {
        "colab": {
          "base_uri": "https://localhost:8080/"
        },
        "outputId": "0c0a1cfe-b3c7-4cbc-892a-56c317687b02",
        "id": "90eMx_VVHcZ6"
      },
      "execution_count": null,
      "outputs": [
        {
          "output_type": "stream",
          "name": "stdout",
          "text": [
            "22/22 [==============================] - 5s 148ms/step - loss: 0.1736 - accuracy: 0.9424\n",
            "Loss on test set: 0.1735599786043167\n",
            "Accuracy on test set: 0.9423897862434387\n",
            "              precision    recall  f1-score   support\n",
            "\n",
            "      glioma     0.9375    0.9231    0.9302       325\n",
            "  meningioma     0.8933    0.8906    0.8919       329\n",
            "     notumor     0.9730    0.9900    0.9814       400\n",
            "   pituitary     0.9573    0.9545    0.9559       352\n",
            "\n",
            "    accuracy                         0.9424      1406\n",
            "   macro avg     0.9403    0.9395    0.9399      1406\n",
            "weighted avg     0.9422    0.9424    0.9423      1406\n",
            "\n"
          ]
        }
      ]
    },
    {
      "cell_type": "code",
      "source": [
        "plot_confusionmatrix(model, test_ds)"
      ],
      "metadata": {
        "colab": {
          "base_uri": "https://localhost:8080/",
          "height": 627
        },
        "outputId": "2920e364-e878-403a-f5d6-c23fb600e0e4",
        "id": "c4rUwmb9HcZ6"
      },
      "execution_count": null,
      "outputs": [
        {
          "output_type": "stream",
          "name": "stdout",
          "text": [
            "22/22 [==============================] - 2s 114ms/step\n"
          ]
        },
        {
          "output_type": "display_data",
          "data": {
            "text/plain": [
              "<Figure size 720x720 with 2 Axes>"
            ],
            "image/png": "[encoded data removed]"
          },
          "metadata": {
            "needs_background": "light"
          }
        }
      ]
    },
    {
      "cell_type": "markdown",
      "source": [
        "# Fine Tuning last block\n",
        "Now it is time to unfreeze the last block of VGG16 to fine tune its weigths on our dataset."
      ],
      "metadata": {
        "id": "kjmryDPn0G0W"
      }
    },
    {
      "cell_type": "code",
      "source": [
        "trainable = False\n",
        "\n",
        "for layer in model.get_layer(\"densenet121\").layers:\n",
        "    if layer.name == 'conv5_block15_0_bn':\n",
        "        trainable = True\n",
        "    is_bn = layer.name.endswith('bn')  # keep BatchNorm freezed, good practice for finetuned models\n",
        "    if not is_bn:\n",
        "      layer.trainable = trainable\n",
        "\n",
        "model = compile_model(model, loss=\"sparse_categorical_crossentropy\", learning_rate=0.0002)\n",
        "model.summary()"
      ],
      "metadata": {
        "colab": {
          "base_uri": "https://localhost:8080/"
        },
        "outputId": "2b5355ed-9383-47ab-c3fc-7576fb4e9030",
        "id": "hV3Flvzo0G0X"
      },
      "execution_count": null,
      "outputs": [
        {
          "output_type": "stream",
          "name": "stdout",
          "text": [
            "Model: \"DenseNet121\"\n",
            "_________________________________________________________________\n",
            " Layer (type)                Output Shape              Param #   \n",
            "=================================================================\n",
            " input_3 (InputLayer)        [(None, 224, 224, 3)]     0         \n",
            "                                                                 \n",
            " sequential (Sequential)     (None, 224, 224, 3)       0         \n",
            "                                                                 \n",
            " tf.math.truediv_2 (TFOpLamb  (None, 224, 224, 3)      0         \n",
            " da)                                                             \n",
            "                                                                 \n",
            " tf.nn.bias_add_1 (TFOpLambd  (None, 224, 224, 3)      0         \n",
            " a)                                                              \n",
            "                                                                 \n",
            " tf.math.truediv_3 (TFOpLamb  (None, 224, 224, 3)      0         \n",
            " da)                                                             \n",
            "                                                                 \n",
            " densenet121 (Functional)    (None, 7, 7, 1024)        7037504   \n",
            "                                                                 \n",
            " gap (GlobalAveragePooling2D  (None, 1024)             0         \n",
            " )                                                               \n",
            "                                                                 \n",
            " flatten (Flatten)           (None, 1024)              0         \n",
            "                                                                 \n",
            " classifier_hidden (Dense)   (None, 256)               262400    \n",
            "                                                                 \n",
            " dropout_1 (Dropout)         (None, 256)               0         \n",
            "                                                                 \n",
            " dense_1 (Dense)             (None, 4)                 1028      \n",
            "                                                                 \n",
            "=================================================================\n",
            "Total params: 7,300,932\n",
            "Trainable params: 587,012\n",
            "Non-trainable params: 6,713,920\n",
            "_________________________________________________________________\n"
          ]
        }
      ]
    },
    {
      "cell_type": "code",
      "source": [
        "model, history = run_model(model, model.name + \"_Finetuned\", train_ds, val_ds, 50, patience=5, monitor='val_loss')\n",
        "plot_accuracy_and_loss_history(history)"
      ],
      "metadata": {
        "colab": {
          "base_uri": "https://localhost:8080/",
          "height": 1000
        },
        "outputId": "c1b2aeba-81de-4a3f-998a-e11199d7399b",
        "id": "-k7OjnhA0G0X"
      },
      "execution_count": null,
      "outputs": [
        {
          "output_type": "stream",
          "name": "stdout",
          "text": [
            "Epoch 1/50\n",
            "66/66 [==============================] - ETA: 0s - loss: 0.0834 - accuracy: 0.9699\n",
            "Epoch 1: val_loss improved from inf to 0.18465, saving model to model/DenseNet121_Finetuned.h5\n",
            "66/66 [==============================] - 20s 202ms/step - loss: 0.0834 - accuracy: 0.9699 - val_loss: 0.1847 - val_accuracy: 0.9259\n",
            "Epoch 2/50\n",
            "66/66 [==============================] - ETA: 0s - loss: 0.0646 - accuracy: 0.9777\n",
            "Epoch 2: val_loss did not improve from 0.18465\n",
            "66/66 [==============================] - 11s 167ms/step - loss: 0.0646 - accuracy: 0.9777 - val_loss: 0.1850 - val_accuracy: 0.9395\n",
            "Epoch 3/50\n",
            "66/66 [==============================] - ETA: 0s - loss: 0.0572 - accuracy: 0.9827\n",
            "Epoch 3: val_loss improved from 0.18465 to 0.17153, saving model to model/DenseNet121_Finetuned.h5\n",
            "66/66 [==============================] - 12s 177ms/step - loss: 0.0572 - accuracy: 0.9827 - val_loss: 0.1715 - val_accuracy: 0.9480\n",
            "Epoch 4/50\n",
            "66/66 [==============================] - ETA: 0s - loss: 0.0548 - accuracy: 0.9822\n",
            "Epoch 4: val_loss improved from 0.17153 to 0.16759, saving model to model/DenseNet121_Finetuned.h5\n",
            "66/66 [==============================] - 12s 177ms/step - loss: 0.0548 - accuracy: 0.9822 - val_loss: 0.1676 - val_accuracy: 0.9487\n",
            "Epoch 5/50\n",
            "66/66 [==============================] - ETA: 0s - loss: 0.0504 - accuracy: 0.9829\n",
            "Epoch 5: val_loss did not improve from 0.16759\n",
            "66/66 [==============================] - 11s 167ms/step - loss: 0.0504 - accuracy: 0.9829 - val_loss: 0.1877 - val_accuracy: 0.9423\n",
            "Epoch 6/50\n",
            "66/66 [==============================] - ETA: 0s - loss: 0.0454 - accuracy: 0.9862\n",
            "Epoch 6: val_loss improved from 0.16759 to 0.16185, saving model to model/DenseNet121_Finetuned.h5\n",
            "66/66 [==============================] - 13s 191ms/step - loss: 0.0454 - accuracy: 0.9862 - val_loss: 0.1619 - val_accuracy: 0.9487\n",
            "Epoch 7/50\n",
            "66/66 [==============================] - ETA: 0s - loss: 0.0385 - accuracy: 0.9893\n",
            "Epoch 7: val_loss did not improve from 0.16185\n",
            "66/66 [==============================] - 11s 168ms/step - loss: 0.0385 - accuracy: 0.9893 - val_loss: 0.1692 - val_accuracy: 0.9544\n",
            "Epoch 8/50\n",
            "66/66 [==============================] - ETA: 0s - loss: 0.0305 - accuracy: 0.9919\n",
            "Epoch 8: val_loss improved from 0.16185 to 0.16173, saving model to model/DenseNet121_Finetuned.h5\n",
            "66/66 [==============================] - 14s 207ms/step - loss: 0.0305 - accuracy: 0.9919 - val_loss: 0.1617 - val_accuracy: 0.9530\n",
            "Epoch 9/50\n",
            "66/66 [==============================] - ETA: 0s - loss: 0.0319 - accuracy: 0.9907\n",
            "Epoch 9: val_loss did not improve from 0.16173\n",
            "66/66 [==============================] - 11s 167ms/step - loss: 0.0319 - accuracy: 0.9907 - val_loss: 0.2180 - val_accuracy: 0.9416\n",
            "Epoch 10/50\n",
            "66/66 [==============================] - ETA: 0s - loss: 0.0335 - accuracy: 0.9912\n",
            "Epoch 10: val_loss improved from 0.16173 to 0.15602, saving model to model/DenseNet121_Finetuned.h5\n",
            "66/66 [==============================] - 12s 177ms/step - loss: 0.0335 - accuracy: 0.9912 - val_loss: 0.1560 - val_accuracy: 0.9566\n",
            "Epoch 11/50\n",
            "66/66 [==============================] - ETA: 0s - loss: 0.0167 - accuracy: 0.9976\n",
            "Epoch 11: val_loss did not improve from 0.15602\n",
            "66/66 [==============================] - 11s 168ms/step - loss: 0.0167 - accuracy: 0.9976 - val_loss: 0.1669 - val_accuracy: 0.9551\n",
            "Epoch 12/50\n",
            "66/66 [==============================] - ETA: 0s - loss: 0.0190 - accuracy: 0.9967\n",
            "Epoch 12: val_loss did not improve from 0.15602\n",
            "66/66 [==============================] - 11s 167ms/step - loss: 0.0190 - accuracy: 0.9967 - val_loss: 0.1652 - val_accuracy: 0.9544\n",
            "Epoch 13/50\n",
            "66/66 [==============================] - ETA: 0s - loss: 0.0188 - accuracy: 0.9953\n",
            "Epoch 13: val_loss did not improve from 0.15602\n",
            "66/66 [==============================] - 11s 168ms/step - loss: 0.0188 - accuracy: 0.9953 - val_loss: 0.1582 - val_accuracy: 0.9580\n",
            "Epoch 14/50\n",
            "66/66 [==============================] - ETA: 0s - loss: 0.0213 - accuracy: 0.9948\n",
            "Epoch 14: val_loss improved from 0.15602 to 0.15110, saving model to model/DenseNet121_Finetuned.h5\n",
            "66/66 [==============================] - 12s 176ms/step - loss: 0.0213 - accuracy: 0.9948 - val_loss: 0.1511 - val_accuracy: 0.9551\n",
            "Epoch 15/50\n",
            "66/66 [==============================] - ETA: 0s - loss: 0.0198 - accuracy: 0.9943\n",
            "Epoch 15: val_loss did not improve from 0.15110\n",
            "66/66 [==============================] - 11s 168ms/step - loss: 0.0198 - accuracy: 0.9943 - val_loss: 0.1572 - val_accuracy: 0.9594\n",
            "Epoch 16/50\n",
            "66/66 [==============================] - ETA: 0s - loss: 0.0157 - accuracy: 0.9967\n",
            "Epoch 16: val_loss did not improve from 0.15110\n",
            "66/66 [==============================] - 11s 167ms/step - loss: 0.0157 - accuracy: 0.9967 - val_loss: 0.1517 - val_accuracy: 0.9608\n",
            "Epoch 17/50\n",
            "66/66 [==============================] - ETA: 0s - loss: 0.0075 - accuracy: 0.9995\n",
            "Epoch 17: val_loss did not improve from 0.15110\n",
            "66/66 [==============================] - 12s 168ms/step - loss: 0.0075 - accuracy: 0.9995 - val_loss: 0.1591 - val_accuracy: 0.9601\n",
            "Epoch 18/50\n",
            "66/66 [==============================] - ETA: 0s - loss: 0.0105 - accuracy: 0.9964\n",
            "Epoch 18: val_loss did not improve from 0.15110\n",
            "66/66 [==============================] - 11s 168ms/step - loss: 0.0105 - accuracy: 0.9964 - val_loss: 0.2061 - val_accuracy: 0.9516\n",
            "Epoch 19/50\n",
            "66/66 [==============================] - ETA: 0s - loss: 0.0187 - accuracy: 0.9950\n",
            "Epoch 19: val_loss did not improve from 0.15110\n",
            "66/66 [==============================] - 12s 169ms/step - loss: 0.0187 - accuracy: 0.9950 - val_loss: 0.2080 - val_accuracy: 0.9494\n",
            "Saving /content/gdrive/MyDrive/BrainTumorClassifier/Models/DenseNet121_Finetuned/history.pkl\n",
            "INFO:tensorflow:Assets written to: ram://85d6121d-afb1-44ac-82ab-ad0288e3d3e1/assets\n"
          ]
        },
        {
          "output_type": "display_data",
          "data": {
            "text/plain": [
              "<Figure size 432x288 with 1 Axes>"
            ],
            "image/png": "[encoded data removed]"
          },
          "metadata": {
            "needs_background": "light"
          }
        },
        {
          "output_type": "display_data",
          "data": {
            "text/plain": [
              "<Figure size 432x288 with 1 Axes>"
            ],
            "image/png": "[encoded data removed]"
          },
          "metadata": {
            "needs_background": "light"
          }
        }
      ]
    },
    {
      "cell_type": "code",
      "source": [
        "evaluate_model(model, test_ds)"
      ],
      "metadata": {
        "colab": {
          "base_uri": "https://localhost:8080/"
        },
        "outputId": "a2b0b711-e126-4c81-828e-6b288b3b79a4",
        "id": "SNQOkJkc0G0Y"
      },
      "execution_count": null,
      "outputs": [
        {
          "output_type": "stream",
          "name": "stdout",
          "text": [
            "22/22 [==============================] - 4s 125ms/step - loss: 0.1604 - accuracy: 0.9509\n",
            "Loss on test set: 0.1603803038597107\n",
            "Accuracy on test set: 0.9509246349334717\n",
            "              precision    recall  f1-score   support\n",
            "\n",
            "      glioma     0.9275    0.9446    0.9360       325\n",
            "  meningioma     0.9094    0.9149    0.9121       329\n",
            "     notumor     0.9778    0.9925    0.9851       400\n",
            "   pituitary     0.9822    0.9432    0.9623       352\n",
            "\n",
            "    accuracy                         0.9509      1406\n",
            "   macro avg     0.9492    0.9488    0.9489      1406\n",
            "weighted avg     0.9513    0.9509    0.9510      1406\n",
            "\n"
          ]
        }
      ]
    },
    {
      "cell_type": "code",
      "source": [
        "plot_confusionmatrix(model, test_ds)"
      ],
      "metadata": {
        "colab": {
          "base_uri": "https://localhost:8080/",
          "height": 627
        },
        "outputId": "872c0a65-e4a3-497f-fac0-624314eb7bc3",
        "id": "qU7Tip1L0G0Y"
      },
      "execution_count": null,
      "outputs": [
        {
          "output_type": "stream",
          "name": "stdout",
          "text": [
            "22/22 [==============================] - 2s 114ms/step\n"
          ]
        },
        {
          "output_type": "display_data",
          "data": {
            "text/plain": [
              "<Figure size 720x720 with 2 Axes>"
            ],
            "image/png": "[encoded data removed]"
          },
          "metadata": {
            "needs_background": "light"
          }
        }
      ]
    }
  ]
}